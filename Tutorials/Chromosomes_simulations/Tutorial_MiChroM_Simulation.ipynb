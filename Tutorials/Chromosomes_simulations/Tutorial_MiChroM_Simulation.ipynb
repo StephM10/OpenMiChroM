{
 "cells": [
  {
   "cell_type": "markdown",
   "metadata": {},
   "source": [
    "### Single Chromosome Simulation for Classic MiChroM"
   ]
  },
  {
   "cell_type": "markdown",
   "metadata": {},
   "source": [
    "This tutorial should take between 10 to 20 minutes of reading and performing simulations."
   ]
  },
  {
   "cell_type": "markdown",
   "metadata": {},
   "source": [
    "#### Chromatin Dynamics Simulations on Chromosome 10 of stomach GRCh38 (from ENCODE Project)"
   ]
  },
  {
   "cell_type": "markdown",
   "metadata": {},
   "source": [
    "The first step is to import the **OpenMiChroM** module"
   ]
  },
  {
   "cell_type": "code",
   "execution_count": 2,
   "metadata": {},
   "outputs": [],
   "source": [
    "from OpenMiChroM.ChromDynamics import MiChroM"
   ]
  },
  {
   "cell_type": "markdown",
   "metadata": {},
   "source": [
    "Download the bed file that contains the sequence annotation for stomach via ENCODE website (https://www.encodeproject.org/)"
   ]
  },
  {
   "cell_type": "code",
   "execution_count": null,
   "metadata": {},
   "outputs": [],
   "source": [
    "%%bash\n",
    "wget -O Tutorials/Chromosomes_simulations/inputs/ENCFF963ZUJ.bed.gz https://www.encodeproject.org/files/ENCFF963ZUJ/@@download/ENCFF963ZUJ.bed.gz \n",
    "gunzip -f Tutorials/Chromosomes_simulations/inputs/ENCFF963ZUJ.bed.gz \n"
   ]
  },
  {
   "cell_type": "markdown",
   "metadata": {},
   "source": [
    "`MiChroM` class sets the initial parameters of the simulation:\n",
    "\n",
    "- `timeStep=0.01`: set the simulation time step to perfom the integration<br>\n",
    "- `temperature=1.0`: set the temperature of your simulation<br>"
   ]
  },
  {
   "cell_type": "code",
   "execution_count": 16,
   "metadata": {},
   "outputs": [
    {
     "name": "stdout",
     "output_type": "stream",
     "text": [
      "    ***************************************************************************************     \n",
      "     **** **** *** *** *** *** *** *** OpenMiChroM-1.1.0 *** *** *** *** *** *** **** ****      \n",
      "\n",
      "         OpenMiChroM is a Python library for performing chromatin dynamics simulations.         \n",
      "                            OpenMiChroM uses the OpenMM Python API,                             \n",
      "                employing the MiChroM (Minimal Chromatin Model) energy function.                \n",
      "      The chromatin dynamics simulations generate an ensemble of 3D chromosomal structures      \n",
      "      that are consistent with experimental Hi-C maps, also allows simulations of a single      \n",
      "                 or multiple chromosome chain using High-Performance Computing                  \n",
      "                            in different platforms (GPUs and CPUs).                             \n",
      "\n",
      "         OpenMiChroM documentation is available at https://open-michrom.readthedocs.io          \n",
      "\n",
      "         OpenMiChroM is described in: Oliveira Junior, A. B & Contessoto, V, G et. al.          \n",
      "      A Scalable Computational Approach for Simulating Complexes of Multiple Chromosomes.       \n",
      "                  Journal of Molecular Biology. doi:10.1016/j.jmb.2020.10.034.                  \n",
      "               We also thank the polychrom <https://github.com/open2c/polychrom>                \n",
      "                 where part of this code was inspired - 10.5281/zenodo.3579472.                 \n",
      "\n",
      "                    Copyright (c) 2024, The OpenMiChroM development team at                     \n",
      "                                        Rice University                                         \n",
      "    ***************************************************************************************     \n"
     ]
    }
   ],
   "source": [
    "sim = MiChroM(name='stomach_GRCh38', temperature=1.0, timeStep=0.01)"
   ]
  },
  {
   "cell_type": "markdown",
   "metadata": {},
   "source": [
    "There are four hardware platform options to run the simulations: \n",
    "```python\n",
    "platform=\"cuda\"\n",
    "platform=\"opencl\"\n",
    "platform=\"hip\"\n",
    "platform=\"cpu\"\n",
    "```\n",
    "\n",
    "Choose accordingly."
   ]
  },
  {
   "cell_type": "code",
   "execution_count": 19,
   "metadata": {},
   "outputs": [
    {
     "name": "stdout",
     "output_type": "stream",
     "text": [
      "Using platform: CUDA\n"
     ]
    }
   ],
   "source": [
    "sim.setup(platform=\"Cuda\")"
   ]
  },
  {
   "cell_type": "markdown",
   "metadata": {},
   "source": [
    "Set the directory name in which the output of the simulation is saved:"
   ]
  },
  {
   "cell_type": "code",
   "execution_count": 18,
   "metadata": {},
   "outputs": [],
   "source": [
    "sim.saveFolder('/home/antonio/test_OM1.1')"
   ]
  },
  {
   "cell_type": "markdown",
   "metadata": {},
   "source": [
    "The next step is to load the chromatin compartment sequence for chromosome 10 and generate an initial 3D structure to start the simulation. We can use the [createSpringSpiral](https://open-michrom.readthedocs.io/en/latest/OpenMiChroM.html#OpenMiChroM.ChromDynamics.MiChroM.createSpringSpiral) function to set the initial configuration of the polymer based in the sequence file.\n",
    "\n",
    "We will use the bed file download above, and set the chromosome 10 to slice the file and get the sequence annotation."
   ]
  },
  {
   "cell_type": "code",
   "execution_count": 20,
   "metadata": {},
   "outputs": [
    {
     "name": "stdout",
     "output_type": "stream",
     "text": [
      "FENEBond was added\n",
      "AngleForce was added\n",
      "RepulsiveSoftCore was added\n",
      "TypetoType was added\n",
      "IdealChromosome was added\n",
      "FlatBottomHarmonic was added\n",
      "Setting positions... loaded!\n",
      "Setting velocities... loaded!\n",
      "Context created!\n",
      "\n",
      "Simulation name: stomach_GRCh38\n",
      "Number of beads: 2676, Number of chains: 1\n",
      "Potential energy: 63.01043, Kinetic Energy: 1.51421 at temperature: 1.0\n",
      "\n",
      "Potential energy per forceGroup:\n",
      "                                  Values\n",
      "FENEBond                   54584.082069\n",
      "AngleForce                     1.002699\n",
      "RepulsiveSoftCore              0.000000\n",
      "TypetoType                  -212.000758\n",
      "IdealChromosome               -1.071779\n",
      "FlatBottomHarmonic        114243.908772\n",
      "Potential Energy (total)  168615.921003\n"
     ]
    }
   ],
   "source": [
    "sim.buildClassicMichrom(ChromSeq='Tutorials/Chromosomes_simulations/inputs/ENCFF963ZUJ.bed', chromosome='chr10')\n"
   ]
  },
  {
   "cell_type": "markdown",
   "metadata": {},
   "source": [
    "As you can see on the output above, we build the system with MiChroM Potential add the homopolymer potentials and the Michrom Potentials.\n",
    "\n",
    "The system reports some statitics as, number of beads, number of chains and the initial energy potential for each force applied."
   ]
  },
  {
   "cell_type": "markdown",
   "metadata": {},
   "source": [
    "Now we create the reporters to save the simulation infos. There are 3 types of reporters:\n",
    "\n",
    "**statistics**: Attaches a reporter to collect simulation statistics such as step number, radius of gyration (RG), total energy, potential energy, kinetic energy, and temperature.\n",
    "\n",
    "**trajectory**:  Attaches a reporter to save trajectory data (xyz per bead per chain) during the simulation. The file format to save the trajectory data. Options are 'cndb', 'swb','ndb', 'pdb', 'gro', 'xyz'. (Default: 'cndb')\n",
    "\n",
    "**energy components**: Saves energy components per force group to a separate file named 'energyComponents.txt' in the simulation folder. Requires that statistics is True\n",
    "\n",
    "set the number of steps interval we will save this information, here I choose 1000 steps"
   ]
  },
  {
   "cell_type": "code",
   "execution_count": 21,
   "metadata": {},
   "outputs": [],
   "source": [
    "sim.createReporters(statistics=True, traj=True, trajFormat=\"cndb\", energyComponents=True, interval=10**3)\n"
   ]
  },
  {
   "cell_type": "markdown",
   "metadata": {},
   "source": [
    "The `sim.run()` function is used to start the simulation. The parameters for this function are:\n",
    "\n",
    "- `nsteps`: The number of steps to run the simulation. In this case, it is set to \\(10^5\\).\n",
    "- `report`: A boolean value indicating whether to report the simulation progress. Here, it is set to `True`.\n",
    "- `interval`: The interval at which the simulation reports progress. In this case, it is set to \\(10^4\\) steps.\n",
    "\n"
   ]
  },
  {
   "cell_type": "code",
   "execution_count": null,
   "metadata": {},
   "outputs": [],
   "source": [
    "sim.run(nsteps=10**6, report=True, interval=10**4)"
   ]
  },
  {
   "cell_type": "markdown",
   "metadata": {},
   "source": [
    "After the simulation end, in the output folder you wil find the files, in this tutorial the files was saved in \"/home/antonio/test_OM1.1\""
   ]
  },
  {
   "cell_type": "code",
   "execution_count": 27,
   "metadata": {},
   "outputs": [
    {
     "name": "stdout",
     "output_type": "stream",
     "text": [
      "Platform Name: CUDA\n",
      "Platform Speed: 100.0\n",
      "Platform Property Names: ('DeviceIndex', 'DeviceName', 'UseBlockingSync', 'Precision', 'UseCpuPme', 'CudaCompiler', 'TempDirectory', 'CudaHostCompiler', 'DisablePmeStream', 'DeterministicForces')\n",
      "DeviceIndex Value: 0\n",
      "DeviceName Value: NVIDIA GeForce RTX 3070 Laptop GPU\n",
      "UseBlockingSync Value: false\n",
      "Precision Value: mixed\n",
      "UseCpuPme Value: false\n",
      "CudaCompiler Value: \n",
      "TempDirectory Value: /tmp\n",
      "CudaHostCompiler Value: \n",
      "DisablePmeStream Value: false\n",
      "DeterministicForces Value: false\n",
      "\n",
      "Simulation name: stomach_GRCh38\n",
      "Number of beads: 2676, Number of chains: 1\n",
      "Potential energy: 63.01043, Kinetic Energy: 1.51421 at temperature: 1.0\n",
      "\n",
      "Potential energy per forceGroup:\n",
      "                                  Values\n",
      "FENEBond                   54584.082069\n",
      "AngleForce                     1.002699\n",
      "RepulsiveSoftCore              0.000000\n",
      "TypetoType                  -212.000758\n",
      "IdealChromosome               -1.071779\n",
      "FlatBottomHarmonic        114243.908772\n",
      "Potential Energy (total)  168615.921003\n"
     ]
    }
   ],
   "source": [
    "%%bash\n",
    "cat /home/antonio/test_OM1.1/initialStats.txt"
   ]
  },
  {
   "cell_type": "code",
   "execution_count": 28,
   "metadata": {},
   "outputs": [
    {
     "name": "stdout",
     "output_type": "stream",
     "text": [
      "#Step,RG,Etotal,Epot,Ekin,Temperature\n",
      "\n",
      "1000,142.264,64.100,61.616,2.483,1.656\n",
      "2000,136.801,61.388,58.304,3.084,2.056\n",
      "3000,130.833,58.047,54.864,3.183,2.122\n",
      "4000,124.858,54.758,51.551,3.207,2.138\n",
      "5000,119.155,51.522,48.544,2.978,1.986\n",
      "6000,113.643,48.609,45.721,2.888,1.925\n",
      "7000,108.429,45.973,43.181,2.792,1.861\n",
      "8000,103.459,43.588,40.932,2.656,1.771\n"
     ]
    }
   ],
   "source": [
    "%%bash\n",
    "head -n 10 /home/antonio/test_OM1.1/statistics.txt"
   ]
  },
  {
   "cell_type": "code",
   "execution_count": 29,
   "metadata": {},
   "outputs": [
    {
     "name": "stdout",
     "output_type": "stream",
     "text": [
      "['Step', 'FENEBond', 'AngleForce', 'RepulsiveSoftCore', 'TypetoType', 'IdealChromosome', 'FlatBottomHarmonic']\n",
      "1000,55437.266,533.813,0.000,-255.140,-2.148,109170.855\n",
      "2000,55337.437,1032.451,1.045,-328.348,-9.719,99987.543\n",
      "3000,55395.351,1398.317,2.719,-380.766,-32.588,90433.013\n",
      "4000,55472.516,1613.201,2.975,-428.613,-66.608,81357.142\n",
      "5000,55455.042,1892.398,14.935,-486.590,-115.180,73142.277\n",
      "6000,55439.545,1985.718,20.307,-541.609,-176.084,65621.029\n",
      "7000,55338.329,2176.605,25.564,-622.169,-247.391,58881.970\n",
      "8000,55452.549,2249.492,55.201,-702.398,-321.593,52800.003\n",
      "9000,55405.277,2350.506,47.454,-766.710,-377.838,47393.514\n"
     ]
    }
   ],
   "source": [
    "%%bash\n",
    "head -n 10 /home/antonio/test_OM1.1/energyComponents.txt"
   ]
  }
 ],
 "metadata": {
  "kernelspec": {
   "display_name": "openmm8",
   "language": "python",
   "name": "python3"
  },
  "language_info": {
   "codemirror_mode": {
    "name": "ipython",
    "version": 3
   },
   "file_extension": ".py",
   "mimetype": "text/x-python",
   "name": "python",
   "nbconvert_exporter": "python",
   "pygments_lexer": "ipython3",
   "version": "3.10.15"
  }
 },
 "nbformat": 4,
 "nbformat_minor": 2
}
