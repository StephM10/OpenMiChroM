{
 "cells": [
  {
   "attachments": {},
   "cell_type": "markdown",
   "metadata": {},
   "source": [
    "### Temporally Correlated Active Noise Simulation Tutorial\n",
    "\n",
    "#### Introduction\n",
    "\n",
    "This tutorial is aimed at introducing nonequilibrium activity to OpenMiChroM simulations. First, we will go through a very brief introduction of the theoretical idea, then, the simulation procedures are discussed.\n",
    "\n",
    "##### Theory\n",
    "\n",
    "Activity, such as originating from molecular motors applying forces on the polymer, is modeled as \n",
    "an athermal drive experienced by each coarse-grained monomer. Since motors typically exhibit on/off dynamics, the athermal force is expected to be correlated in time, as opposed to the thermal noise\n",
    "that is temporally uncorrelated. To model activity, we add a novel noise-like term to the forces associated with a monomer, such that the equation of motion of the $n$-th monomer reads as follows:\n",
    "\n",
    "$$\n",
    "\\gamma \\frac{dr_n}{dt} = -\\nabla_n U + \\xi^{\\rm therm}_n + f^{\\rm act}_n\n",
    "$$\n",
    "\n",
    "where $\\gamma$ is the damping coefficient and $U$ is the passive potential, like the harmonic bonds joining neighboring monomers in a polymer. \n",
    "$\\xi^{\\rm therm}_n$ is the the thermal noise that is uncorrelated over time as well as across the chain:\n",
    "\n",
    "$$\n",
    "\\langle \\xi^{\\rm therm}_n(t)\\rangle=0\\quad \\text{and} \\quad \\langle \\xi^{\\rm therm}_n(t)\\xi^{\\rm therm}_m(t^\\prime)\\rangle = 2\\gamma T\\delta_{mn}\\delta(t-t^\\prime).\n",
    "$$\n",
    "\n",
    "The active noise kicks are given by $f^{\\rm act}(t)$, which are correlated over time and their correlation decays over a characteristic time scale $\\tau$:\n",
    "\n",
    "$$\n",
    "\\langle f^{\\rm act}_n  \\rangle=0 \\quad \\text{and} \\quad \\langle f^{\\rm act}_n(t)f^{\\rm act}_m(t^\\prime)  \\rangle=F^2e^{-|t-t^\\prime|/\\tau}\\delta_{mn}\n",
    "$$\n",
    "\n",
    "The dynamics of the active force of the $n$-th monomer is governed by the following equation:\n",
    "\n",
    "$$\n",
    "\\tau \\frac{df^{\\rm act}_n}{dt} = -f^{\\rm act}_n + \\sqrt{2\\gamma \\theta_a}\\eta(t)\n",
    "$$\n",
    "\n",
    "where $\\theta_a\\equiv F^2\\tau/\\gamma$ is the active temperature-like quantity, and $\\eta(t)$ is a delta-correlated stationary Gaussian process.\n",
    "\n",
    "\n",
    "##### Brownian Dynamics\n",
    "Brownian dynamics only has forces and displacements, and no velocities. The positions after time $\\Delta t$, given by $x(t+\\Delta t)$ are computed based on the current forces $h(t)$ and positions $x(t)$.\n",
    "\n",
    "$$\n",
    "x_n(t+\\Delta t)=x_n(t)+\\frac{h_n(t)}{\\gamma}\\Delta t+\\sqrt{\\frac{2T}{\\gamma}\\Delta t}\\mathcal{N}(0,1)\n",
    "$$\n",
    "\n",
    "where the last term is the thermal kick at temperature $T$ with $\\mathcal{N}(0,1)$ representing a random Normal variable with zero mean and unit standard deviation. The net force experienced by the $n$-th monomer at time step $t$ is given by $h_n(t)$.\n",
    "\n",
    "$$\n",
    "h_n(t)= -\\frac{\\partial}{\\partial x}\\sum_{m}U(|x_n(t)-x_m(t)|)+f^{\\rm act}_n(t)\n",
    "$$\n",
    "\n",
    "The net force for a monomer $h(t)$, depends on the active force of the monomer $f^{\\rm act}(t)$, which is related to the active force in the previous time step $f^{\\rm act}(t-\\Delta t)$.\n",
    "The active force on the $n$-th monomer at time $t$ is obtained as follows:\n",
    "\n",
    "$$\n",
    "f^{\\rm act}_n(t)=f^{\\rm act}_n(t-\\Delta t)e^{-\\Delta t/\\tau}+{F}\\sqrt{1-e^{-2\\Delta t/\\tau}}\\mathcal{\\tilde{N}}(0,1)\n",
    "$$\n",
    "\n",
    "\n",
    "where $\\mathcal{\\tilde{N}}(0,1)$ is  a random Normal variable that is different from the thermal one. \n",
    "\n",
    "Next is a step-by-step guidance on how to setup and run OpenMiChroM simulations with correlated active noise. Users not familiar with running OpenMiChroM simulations, would greatly benefit from first going through the practice of running equilibrium OpenMiChroM simulations (see https://open-michrom.readthedocs.io/en/latest/Tutorials/Tutorial_Single_Chromosome.html). For users already familiar with OpenMiChroM, it is still the same simulation object that is created and basic steps of running the simulations are the same. The main differences are two fold: \n",
    "1. Adding activity using a function **addCorrelatedNoise()**. One should make sure to add activity as the first force field. It is extremely important that the active force is assigned a force-group \"0\".\n",
    "2. Using a custom integrator **ActiveBrownianIntegrator** (see Integrator.py) that takes care of the active force which is hard-coded to be the force-group \"0\". Hence the catutionary statement above.\n",
    "\n",
    "Hope you follow along!"
   ]
  },
  {
   "attachments": {},
   "cell_type": "markdown",
   "metadata": {},
   "source": [
    "#### Simulations\n",
    "##### Import modules\n",
    "\n",
    "Active functions are \n"
   ]
  },
  {
   "cell_type": "code",
   "execution_count": null,
   "metadata": {},
   "outputs": [],
   "source": [
    "import sys \n",
    "sys.path.append('../../OpenMiChroM/')\n",
    "from ChromDynamics import MiChroM\n",
    "from Integrators import ActiveBrownianIntegrator\n",
    "import numpy as np\n",
    "import matplotlib.pyplot as plt"
   ]
  },
  {
   "attachments": {},
   "cell_type": "markdown",
   "metadata": {},
   "source": [
    "##### Initialize simulation"
   ]
  },
  {
   "cell_type": "code",
   "execution_count": null,
   "metadata": {},
   "outputs": [],
   "source": [
    "# Instantiate MiChroM object\n",
    "sim = MiChroM(name='active_Rouse_sim', temperature=0.2, time_step=0.001, collision_rate=1.0)\n",
    "\n",
    "# specify platform and output destination\n",
    "sim.setup(platform=\"opencl\")\n",
    "sim.saveFolder('./out')\n",
    "active_correaltion_time = 5.0\n",
    "#specify the integrator for correlated noise\n",
    "#note that the force-group \"0\" is associated with the correlated active noise\n",
    "sim.integrator = ActiveBrownianIntegrator(timestep=sim.timestep, temperature=sim.temperature, \n",
    "                                        collision_rate=sim.collisionRate, corr_time=active_correaltion_time)"
   ]
  },
  {
   "attachments": {},
   "cell_type": "markdown",
   "metadata": {},
   "source": [
    "##### Load initial structure"
   ]
  },
  {
   "cell_type": "code",
   "execution_count": null,
   "metadata": {},
   "outputs": [],
   "source": [
    "# generate a test sequence file of size n\n",
    "n=10\n",
    "with open('test_seq.txt','w') as seq_file:\n",
    "    for ii in range(n):\n",
    "        seq_file.write(f'{ii+1} A1\\n')\n",
    "\n",
    "# create a random configuration with the sequence file\n",
    "init_struct = sim.createRandomWalk(ChromSeq='test_seq.txt')\n",
    "sim.loadStructure(init_struct, center=True)\n",
    "\n",
    "#uncomment below to save the loaded structure\n",
    "#  sim.saveStructure(mode = 'auto')"
   ]
  },
  {
   "attachments": {},
   "cell_type": "markdown",
   "metadata": {},
   "source": [
    "##### Add forces"
   ]
  },
  {
   "cell_type": "code",
   "execution_count": null,
   "metadata": {},
   "outputs": [],
   "source": [
    "# For the purpose of the simualtion we will consider a simple simulation of an active Rouse chain - harmonically bonded monomers with zero rest length\n",
    "# the good things about active Rouse chain is that the dynamics may be calculated analytically and compared for verification.\n",
    "# Any force-field available for OpenMiChroM, like self-avoidance, may be used. \n",
    "# However, since Brownian Dynamics does not have momentum, it is prudent to make sure the time step is small enough for steep potentials. \n",
    "# Using too large a time step with steep (or worse, diverging!) potentials will generate huge forces, possibly leading to explosion! wear your safety goggles!\n",
    "\n",
    "# Now the force-fields:\n",
    "# first, add correlated noise. \n",
    "# IMPORTANT: correlated noise should always be added as the *first* force-field.\n",
    "# This is because force-group \"0\" is hard-coded as the active force within ActiveBrownianIntegrator\n",
    "# act_seq contains the active force values F for each monomer. It needs to be the same size as the total number of monomers\n",
    "# the values F_i in the list need not be the same, they can be heterogenous depicting varied motor activity\n",
    "# below we consider a homogenously active polymer\n",
    "F = 0.5\n",
    "sim.addCorrelatedNoise(act_seq=F*np.ones(sim.N))\n",
    "\n",
    "# add Harmonic bonds between monomers of the chain. Use sim.chains to get the number of chains.\n",
    "# setting the rest length to zero since the analytical form is easier to calculate that way.\n",
    "kb=5.0\n",
    "sim.addHarmonicBonds(kfb=kb, r0=0.0)\n",
    "\n",
    "# adding soft-core self-avoidance \n",
    "# repulsion is modeled using a sigmoid function with a finite overlap energy Ecut\n",
    "# sim.addSelfAvoidance(Ecut=4.0, k_rep=20.0, r0=1.0)\n",
    "\n",
    "# half-harmonic restraint as confinement\n",
    "# sim.addFlatBottomHarmonic(kr=10.0, n_rad=20.0)"
   ]
  },
  {
   "attachments": {},
   "cell_type": "markdown",
   "metadata": {},
   "source": [
    "##### Run intial collapse"
   ]
  },
  {
   "cell_type": "code",
   "execution_count": null,
   "metadata": {},
   "outputs": [],
   "source": [
    "#run collapse simulation\n",
    "for _ in range(10):\n",
    "    sim.runSimBlock(3000, increment=False)\n",
    "\n",
    "# save the collapsed structure -- uncomment below\n",
    "# sim.saveStructure(filename='collapse',mode='ndb')"
   ]
  },
  {
   "attachments": {},
   "cell_type": "markdown",
   "metadata": {},
   "source": [
    "##### Run simulation"
   ]
  },
  {
   "cell_type": "code",
   "execution_count": null,
   "metadata": {},
   "outputs": [],
   "source": [
    "# For the purpose of the tutorial we will just store the data in the xyz array for plotting\n",
    "# you may instead save the data into cndb/ndb/pdb files and load into numpy arrays using cndbtools\n",
    "# if you would like to save the data uncomment the lines below\n",
    "\n",
    "# sim.initStorage(filename=\"active_Rouse_sim\"\") # initiate storage\n",
    "\n",
    "xyz = [sim.getPositions()]\n",
    "\n",
    "n_blocks = 500 # number of simulation blocks\n",
    "block_size = 1000 # size of each block\n",
    "\n",
    "for _ in range(int(n_blocks)):\n",
    "    sim.runSimBlock(int(block_size), increment=True)\n",
    "    # sim.saveStructure()\n",
    "    xyz.append(sim.getPositions())\n",
    "    \n",
    "# sim.saveStructure(filename='lastframe',mode='ndb')\n",
    "# sim.storage[0].close()\n",
    "\n",
    "xyz = np.array(xyz)\n",
    "print(xyz.shape) # the shape should be: (number of blocks, number of monos, deg. of freedom)\n"
   ]
  },
  {
   "attachments": {},
   "cell_type": "markdown",
   "metadata": {},
   "source": [
    "##### Visualize trajectory"
   ]
  },
  {
   "cell_type": "code",
   "execution_count": null,
   "metadata": {},
   "outputs": [],
   "source": [
    "#import the libraries for plotting\n",
    "from matplotlib.animation import FuncAnimation\n",
    "import matplotlib.pyplot as plt\n",
    "\n",
    "# ipympl is necessary for dynamic plotting\n",
    "# dynamic plotting is not supported inline\n",
    "%matplotlib ipympl\n",
    "\n",
    "fig = plt.figure(1)\n",
    "ax = fig.add_axes([0,0,1,1],projection='3d')\n",
    "\n",
    "R0=sim.N**(0.5)\n",
    "\n",
    "ax.scatter(xyz[0,:,0],xyz[0,:,1],xyz[0,:,2],'o',color='C0')\n",
    "ax.plot(xyz[0,:,0],xyz[0,:,1],xyz[0,:,2],'-',color='C0')\n",
    "ax.set_zlim(-R0, R0)\n",
    "ax.set_xlim(-R0, R0)\n",
    "ax.set_ylim(-R0, R0)\n",
    "\n",
    "def update(ii):\n",
    "    ax.cla()\n",
    "    p=xyz[ii]\n",
    "    ax.scatter(p[:,0],p[:,1],p[:,2],'o',color='C0')\n",
    "    ax.plot(p[:,0],p[:,1],p[:,2],'-',color='C0')\n",
    "    ax.set_zlim(-R0, R0)\n",
    "    ax.set_xlim(-R0, R0)\n",
    "    ax.set_ylim(-R0, R0)\n",
    "    \n",
    "anim = FuncAnimation(fig, update, frames=np.arange(1,400,1), interval=200, blit=False,repeat=False)\n",
    "\n",
    "# uncomment below to save the animation\n",
    "# anim.save('animation_active_sim.gif', writer='pillow')\n",
    "\n",
    "plt.show()\n"
   ]
  },
  {
   "attachments": {},
   "cell_type": "markdown",
   "metadata": {},
   "source": [
    "##### Verify dynamics"
   ]
  },
  {
   "cell_type": "code",
   "execution_count": null,
   "metadata": {},
   "outputs": [],
   "source": [
    "from CndbTools import cndbTools\n",
    "cndbT = cndbTools()\n",
    "\n",
    "def active_gas_MSD(t_lag, temp, F, tau, g, d=3):\n",
    "    return d*(2*temp*t_lag/g + (2*F**2*tau/g**2)*(t_lag + tau*np.exp(-t_lag/tau)) - 2*F**2*tau**2/g**2)\n",
    "\n",
    "def tau_rouse(p,kb,N,g):\n",
    "    return g*N**2/(np.pi**2*kb*p**2)\n",
    "\n",
    "def active_Rouse_MSD(t_lag, temp, F, tau, kb, N, g, d=3):\n",
    "\n",
    "    rouse_modes=np.arange(1, N+1, 1)\n",
    "    tau_mode_i=tau_rouse(rouse_modes, kb, N, g)\n",
    "    val=(tau_mode_i*(temp+F**2*tau*tau_mode_i**2/(g*(tau_mode_i**2-tau**2)))*(1-np.exp(-t_lag/tau_mode_i))/(2*N*g)\n",
    "        -(F*tau*tau_mode_i)**2*(1-np.exp(-t_lag/tau))/(2*N*g**2*(tau_mode_i**2-tau**2)))*0.5\n",
    "    # print(val.shape)\n",
    "    \n",
    "    return (2*d*(temp+F**2*tau/g)*t_lag/(N*g) - 2*d*F**2*tau**2*(1-np.exp(-t_lag/tau))/(N*g**2) + 8*d*np.sum(val))\n",
    "    "
   ]
  },
  {
   "cell_type": "code",
   "execution_count": null,
   "metadata": {},
   "outputs": [],
   "source": [
    "# compute_MSD returns an (N * T) array with mononers in the first dimension and lag time in the second\n",
    "msd_rouse = np.mean(cndbT.compute_MSD(xyz), axis=0)"
   ]
  },
  {
   "cell_type": "code",
   "execution_count": null,
   "metadata": {},
   "outputs": [],
   "source": [
    "%matplotlib inline\n",
    "\n",
    "#lag times\n",
    "ts = np.arange(0,xyz.shape[0], block_size*0.001)\n",
    "\n",
    "plt.loglog(ts, msd_rouse,'o', label='simulation')\n",
    "plt.loglog(ts, [active_Rouse_MSD(xx, sim.temperature*0.008314, F, sim.integrator.corrTime, kb, sim.N, 1.0) for xx in ts],'k--', label='analytical')\n",
    "plt.legend()\n",
    "plt.ylabel('Mean square displacement ($\\\\sigma^2$)')\n",
    "plt.xlabel('Lag time $t/\\\\tau_{sim}$')\n",
    "plt.title('Temperature={0:.2f}  $F={1:.1f}\\\\epsilon/\\\\sigma$  $\\\\tau={2:.1f} \\\\tau_{{sim}}$'.format(sim.temperature,F, sim.integrator.corrTime))\n",
    "plt.ylim(msd_rouse[1]*0.5,max(msd_rouse)*1.5)\n",
    "plt.show()"
   ]
  }
 ],
 "metadata": {
  "kernelspec": {
   "display_name": "base",
   "language": "python",
   "name": "python3"
  },
  "language_info": {
   "codemirror_mode": {
    "name": "ipython",
    "version": 3
   },
   "file_extension": ".py",
   "mimetype": "text/x-python",
   "name": "python",
   "nbconvert_exporter": "python",
   "pygments_lexer": "ipython3",
   "version": "3.9.7"
  },
  "orig_nbformat": 4
 },
 "nbformat": 4,
 "nbformat_minor": 2
}
