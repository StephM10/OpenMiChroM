{
 "cells": [
  {
   "cell_type": "markdown",
   "metadata": {},
   "source": [
    "### Single Chromosome Simulation"
   ]
  },
  {
   "cell_type": "markdown",
   "metadata": {},
   "source": [
    "This tutorial should take between 5 to 15 minutes of reading and performing simulations."
   ]
  },
  {
   "cell_type": "markdown",
   "metadata": {},
   "source": [
    "#### Chromatin Dynamics Simulations on Chromosome 10 of GM12878 Cell Line"
   ]
  },
  {
   "cell_type": "markdown",
   "metadata": {},
   "source": [
    "The first step is to import the **OpenMiChroM** module"
   ]
  },
  {
   "cell_type": "code",
   "execution_count": 1,
   "metadata": {},
   "outputs": [],
   "source": [
    "import sys\n",
    "\n",
    "sys.path.insert(0, '/Users/matheusmello/Library/CloudStorage/OneDrive-Personal/Ph.D/OpenMiChroM/OpenMiChroM')\n",
    "\n",
    "from ChromDynamics import MiChroM\n",
    "from CndbTools import cndbTools"
   ]
  },
  {
   "cell_type": "markdown",
   "metadata": {},
   "source": [
    "`MiChroM` class sets the initial parameters of the simulation:\n",
    "\n",
    "- `time_step=0.01`: set the simulation time step to perfom the integration<br>\n",
    "- `temperature=1.0`: set the temperature of your simulation<br>"
   ]
  },
  {
   "cell_type": "code",
   "execution_count": 2,
   "metadata": {},
   "outputs": [
    {
     "name": "stdout",
     "output_type": "stream",
     "text": [
      "    ***************************************************************************************     \n",
      "     **** **** *** *** *** *** *** *** OpenMiChroM-1.0.5 *** *** *** *** *** *** **** ****      \n",
      "\n",
      "         OpenMiChroM is a Python library for performing chromatin dynamics simulations.         \n",
      "                            OpenMiChroM uses the OpenMM Python API,                             \n",
      "                employing the MiChroM (Minimal Chromatin Model) energy function.                \n",
      "      The chromatin dynamics simulations generate an ensemble of 3D chromosomal structures      \n",
      "      that are consistent with experimental Hi-C maps, also allows simulations of a single      \n",
      "                 or multiple chromosome chain using High-Performance Computing                  \n",
      "                            in different platforms (GPUs and CPUs).                             \n",
      "         OpenMiChroM documentation is available at https://open-michrom.readthedocs.io          \n",
      "\n",
      "         OpenMiChroM is described in: Oliveira Junior, A. B & Contessoto, V, G et. al.          \n",
      "      A Scalable Computational Approach for Simulating Complexes of Multiple Chromosomes.       \n",
      "                  Journal of Molecular Biology. doi:10.1016/j.jmb.2020.10.034.                  \n",
      "                                              and                                               \n",
      "                                 Oliveira Junior, A. B. et al.                                  \n",
      "     Chromosome Modeling on Downsampled Hi-C Maps Enhances the Compartmentalization Signal.     \n",
      "                        J. Phys. Chem. B, doi:10.1021/acs.jpcb.1c04174.                         \n",
      "\n",
      "                    Copyright (c) 2022, The OpenMiChroM development team at                     \n",
      "                                        Rice University                                         \n",
      "    ***************************************************************************************     \n"
     ]
    }
   ],
   "source": [
    "sim = MiChroM(temperature=1.0, time_step=0.01)"
   ]
  },
  {
   "cell_type": "markdown",
   "metadata": {},
   "source": [
    "There are four hardware platform options to run the simulations: \n",
    "```python\n",
    "platform=\"cuda\"\n",
    "platform=\"opencl\"\n",
    "platform=\"hip\"\n",
    "platform=\"cpu\"\n",
    "```\n",
    "\n",
    "Choose accordingly."
   ]
  },
  {
   "cell_type": "code",
   "execution_count": 3,
   "metadata": {},
   "outputs": [],
   "source": [
    "sim.setup(platform=\"opencl\")"
   ]
  },
  {
   "cell_type": "markdown",
   "metadata": {},
   "source": [
    "Set the directory name in which the output of the simulation is saved:"
   ]
  },
  {
   "cell_type": "code",
   "execution_count": 4,
   "metadata": {},
   "outputs": [],
   "source": [
    "sim.saveFolder('output_chr10')"
   ]
  },
  {
   "cell_type": "markdown",
   "metadata": {},
   "source": [
    "The next step is to load the chromatin compartment sequence for chromosome 10 and generate an initial 3D structure to start the simulation. We can use the [createSpringSpiral](https://open-michrom.readthedocs.io/en/latest/OpenMiChroM.html#OpenMiChroM.ChromDynamics.MiChroM.createSpringSpiral) function to set the initial configuration of the polymer based in the sequence file.\n",
    "\n",
    "The first column of the sequence file should contain the locus index. The second should have the locus type annotation. A template file of the chromatin sequence of types can be found [here](https://github.com/junioreif/OpenMiChroM/blob/main/Tutorials/inputs/chr10_beads.txt).<br>\n",
    "\n",
    "The loci positions are stored in the variable **chr10** as a NumPy array $[N:3]$, where $N$ is the number of beads. "
   ]
  },
  {
   "cell_type": "code",
   "execution_count": 5,
   "metadata": {},
   "outputs": [],
   "source": [
    "chr10 = sim.createSpringSpiral(ChromSeq='inputs/chr10_beads.txt', isRing=False)"
   ]
  },
  {
   "cell_type": "markdown",
   "metadata": {},
   "source": [
    "We can check the position of the first five beads:"
   ]
  },
  {
   "cell_type": "code",
   "execution_count": 6,
   "metadata": {},
   "outputs": [
    {
     "name": "stdout",
     "output_type": "stream",
     "text": [
      "[[410.61654383 221.72955137 221.17249751]\n",
      " [410.62605506 222.10093022 222.10093022]\n",
      " [410.61654383 222.47230906 223.02936292]\n",
      " [410.5880139  222.84357838 223.95743532]\n",
      " [410.54047655 223.21462872 224.88478724]]\n"
     ]
    }
   ],
   "source": [
    "print(chr10[:5])"
   ]
  },
  {
   "cell_type": "markdown",
   "metadata": {},
   "source": [
    "The initial structure should then be loaded into the `sim` object.\n",
    "\n",
    "The option `center=True` moves your system to the origin."
   ]
  },
  {
   "cell_type": "code",
   "execution_count": 7,
   "metadata": {},
   "outputs": [],
   "source": [
    "sim.loadStructure(chr10, center=True)"
   ]
  },
  {
   "cell_type": "markdown",
   "metadata": {},
   "source": [
    "The initial 3D chromosome structure can be saved in [.ndb file format](https://ndb.rice.edu/ndb-format). The file is stored in the path given in `saveFolder`."
   ]
  },
  {
   "cell_type": "code",
   "execution_count": 8,
   "metadata": {},
   "outputs": [],
   "source": [
    "sim.saveStructure(mode='ndb')"
   ]
  },
  {
   "cell_type": "markdown",
   "metadata": {},
   "source": [
    "The next step is to add the force field in the simulation object `sim`.\n",
    "\n",
    "In this tutorial, the forces can be divided into two sets:\n",
    "\n",
    "**MiChroM Homopolymer (Bonded) Potentials**  "
   ]
  },
  {
   "cell_type": "code",
   "execution_count": 9,
   "metadata": {},
   "outputs": [],
   "source": [
    "sim.addFENEBonds(kfb=30.0)\n",
    "sim.addAngles(ka=2.0)\n",
    "sim.addRepulsiveSoftCore(Ecut=4.0)"
   ]
  },
  {
   "cell_type": "markdown",
   "metadata": {},
   "source": [
    "**MiChroM Non-Bonded Potentials**"
   ]
  },
  {
   "cell_type": "code",
   "execution_count": 10,
   "metadata": {},
   "outputs": [],
   "source": [
    "sim.addTypetoType(mu=3.22, rc=1.78)\n",
    "sim.addIdealChromosome(mu=3.22, rc=1.78, dinit=3, dend=500)"
   ]
  },
  {
   "cell_type": "markdown",
   "metadata": {},
   "source": [
    "The last potential adds a spherical constrain to collapse the initial structure."
   ]
  },
  {
   "cell_type": "code",
   "execution_count": 11,
   "metadata": {},
   "outputs": [],
   "source": [
    "sim.addFlatBottomHarmonic(kr=5*10**-3, n_rad=15.0)"
   ]
  },
  {
   "cell_type": "markdown",
   "metadata": {},
   "source": [
    "Run a short simulation to generate a collapsed structure."
   ]
  },
  {
   "cell_type": "code",
   "execution_count": 12,
   "metadata": {},
   "outputs": [],
   "source": [
    "block = 3*10**2\n",
    "n_blocks = 2*10**1"
   ]
  },
  {
   "cell_type": "markdown",
   "metadata": {},
   "source": [
    "Two variables control the chromatin dynamics simulation steps:\n",
    "\n",
    "`block`: The number of time-steps performed in each cycle (or block)</br>\n",
    "`n_blocks`: The number of cycles (or blocks) simulated. \n",
    "\n",
    "The initial collapse simulation will run for  $3\\times10^2 \\times  2\\times10^3 = 6\\times10^5$ time-steps."
   ]
  },
  {
   "cell_type": "code",
   "execution_count": 13,
   "metadata": {
    "scrolled": true
   },
   "outputs": [
    {
     "name": "stdout",
     "output_type": "stream",
     "text": [
      "Number of exceptions: 2711\n",
      "adding force  FENEBond 0\n",
      "adding force  AngleForce 1\n",
      "Add exclusions for RepulsiveSoftCore force\n",
      "adding force  RepulsiveSoftCore 2\n",
      "Add exclusions for TypetoType force\n",
      "adding force  TypetoType 3\n",
      "Add exclusions for IdealChromosome force\n",
      "adding force  IdealChromosome 4\n",
      "adding force  FlatBottomHarmonic 5\n",
      "Positions... \n",
      " loaded!\n",
      "potential energy is 64.292854\n",
      "bl=1 pos[1]=[209.7 -9.9 -0.5] dr=0.63 t=0.0ps kin=1.31 pot=64.78 Rg=146.803 SPS=138 \n",
      "bl=2 pos[1]=[208.1 -9.9 2.2] dr=1.13 t=0.0ps kin=1.87 pot=64.12 Rg=145.956 SPS=512 \n",
      "bl=3 pos[1]=[205.9 -10.2 4.3] dr=1.47 t=0.0ps kin=2.36 pot=63.23 Rg=144.746 SPS=522 \n",
      "bl=4 pos[1]=[203.9 -10.3 5.5] dr=1.70 t=0.0ps kin=2.72 pot=62.30 Rg=143.287 SPS=547 \n",
      "bl=5 pos[1]=[201.4 -10.5 5.1] dr=1.85 t=0.0ps kin=2.93 pot=61.28 Rg=141.658 SPS=381 \n",
      "bl=6 pos[1]=[199.5 -10.5 5.6] dr=1.93 t=0.0ps kin=3.07 pot=60.21 Rg=139.928 SPS=445 \n",
      "bl=7 pos[1]=[196.9 -10.5 6.6] dr=1.98 t=0.0ps kin=3.14 pot=59.16 Rg=138.139 SPS=391 \n",
      "bl=8 pos[1]=[194.5 -10.6 7.2] dr=2.01 t=0.0ps kin=3.21 pot=58.06 Rg=136.312 SPS=440 \n",
      "bl=9 pos[1]=[191.7 -10.3 7.9] dr=2.03 t=0.0ps kin=3.26 pot=56.95 Rg=134.466 SPS=474 \n",
      "bl=10 pos[1]=[188.6 -9.8 8.5] dr=2.03 t=0.0ps kin=3.27 pot=55.90 Rg=132.627 SPS=491 \n",
      "bl=11 pos[1]=[186.1 -9.2 9.9] dr=2.04 t=0.0ps kin=3.27 pot=54.87 Rg=130.784 SPS=457 \n",
      "bl=12 pos[1]=[181.9 -9.7 10.7] dr=2.01 t=0.0ps kin=3.27 pot=53.85 Rg=128.971 SPS=404 \n",
      "bl=13 pos[1]=[179.2 -10.3 11.4] dr=2.00 t=0.0ps kin=3.20 pot=52.83 Rg=127.175 SPS=511 \n",
      "bl=14 pos[1]=[175.4 -10.1 12.3] dr=1.97 t=0.0ps kin=3.16 pot=51.86 Rg=125.413 SPS=483 \n",
      "bl=15 pos[1]=[171.1 -9.9 12.6] dr=1.96 t=0.0ps kin=3.15 pot=50.92 Rg=123.667 SPS=453 \n",
      "bl=16 pos[1]=[167.2 -8.7 13.0] dr=1.94 t=0.0ps kin=3.09 pot=49.99 Rg=121.941 SPS=472 \n",
      "bl=17 pos[1]=[164.3 -7.3 13.3] dr=1.92 t=0.0ps kin=3.00 pot=49.12 Rg=120.245 SPS=477 \n",
      "bl=18 pos[1]=[161.9 -7.2 14.4] dr=1.90 t=0.0ps kin=2.99 pot=48.21 Rg=118.579 SPS=496 \n",
      "bl=19 pos[1]=[159.8 -6.4 14.4] dr=1.88 t=0.0ps kin=2.95 pot=47.36 Rg=116.934 SPS=359 \n",
      "bl=20 pos[1]=[158.7 -6.0 13.9] dr=1.86 t=0.0ps kin=2.88 pot=46.54 Rg=115.312 SPS=423 \n"
     ]
    }
   ],
   "source": [
    "for _ in range(n_blocks):\n",
    "    sim.runSimBlock(block, increment=True) "
   ]
  },
  {
   "cell_type": "markdown",
   "metadata": {},
   "source": [
    "Details about the output of each simulation block:\n",
    "\n",
    "- `bl=0`: index number of the simulated block. The parameter `increment=False` is used to ignore the steps counting.<br>\n",
    "- `pos[1]=[X,Y,Z]`: spatial position for the locus 1. <br>\n",
    "- `dr=1.26`: average of the loci displacements in each block (in units of sigma). <br>\n",
    "- `t=0`: current simulation time. **why always zero??**<br>\n",
    "- `kin=1.5`: kinetic energy of the system (reduced units).<br>\n",
    "- `pot=19.90`: total potential energy of the system (reduced units). <br>\n",
    "- `RG=7.654`: radius of gyration at the end of the simulated block. <br>\n",
    "- `SPS=12312`: steps per second of each block."
   ]
  },
  {
   "cell_type": "markdown",
   "metadata": {},
   "source": [
    "The radius of gyration is a good parameter to check the performance of the collapse.\n",
    "If the chromosome polymer is not collapsed, it is necessary to rerun the initial collapse steps. We can also save the structure for inspection."
   ]
  },
  {
   "cell_type": "code",
   "execution_count": 14,
   "metadata": {},
   "outputs": [
    {
     "name": "stdout",
     "output_type": "stream",
     "text": [
      "115.311874\n"
     ]
    }
   ],
   "source": [
    "print(sim.chromRG())\n",
    "sim.saveStructure(mode='ndb')"
   ]
  },
  {
   "cell_type": "markdown",
   "metadata": {},
   "source": [
    "The structure can also be saved using stardard file formats used for macromolecules, as the `pdb` and `gro` formats."
   ]
  },
  {
   "cell_type": "code",
   "execution_count": 15,
   "metadata": {},
   "outputs": [],
   "source": [
    "sim.saveStructure(mode='gro')\n",
    "sim.saveStructure(mode='pdb')"
   ]
  },
  {
   "cell_type": "markdown",
   "metadata": {},
   "source": [
    "The next step is to remove the spherical constrain force to run the production simulation."
   ]
  },
  {
   "cell_type": "code",
   "execution_count": 16,
   "metadata": {},
   "outputs": [],
   "source": [
    "sim.removeFlatBottomHarmonic()"
   ]
  },
  {
   "cell_type": "markdown",
   "metadata": {},
   "source": [
    "If necessary, one could remove any of the forces applied in the system. To see the forces in the system:"
   ]
  },
  {
   "cell_type": "code",
   "execution_count": 17,
   "metadata": {},
   "outputs": [
    {
     "data": {
      "text/plain": [
       "{'FENEBond': <openmm.openmm.CustomBondForce; proxy of <Swig Object of type 'OpenMM::CustomBondForce *' at 0x141bc6510> >,\n",
       " 'AngleForce': <openmm.openmm.CustomAngleForce; proxy of <Swig Object of type 'OpenMM::CustomAngleForce *' at 0x11477f060> >,\n",
       " 'RepulsiveSoftCore': <openmm.openmm.CustomNonbondedForce; proxy of <Swig Object of type 'OpenMM::CustomNonbondedForce *' at 0x113979630> >,\n",
       " 'TypetoType': <openmm.openmm.CustomNonbondedForce; proxy of <Swig Object of type 'OpenMM::CustomNonbondedForce *' at 0x10d994fc0> >,\n",
       " 'IdealChromosome': <openmm.openmm.CustomNonbondedForce; proxy of <Swig Object of type 'OpenMM::CustomNonbondedForce *' at 0x11477f360> >}"
      ]
     },
     "execution_count": 17,
     "metadata": {},
     "output_type": "execute_result"
    }
   ],
   "source": [
    "sim.forceDict"
   ]
  },
  {
   "cell_type": "code",
   "execution_count": 18,
   "metadata": {},
   "outputs": [],
   "source": [
    "# sim.removeForce(forceName=\"TypetoType\")"
   ]
  },
  {
   "cell_type": "markdown",
   "metadata": {},
   "source": [
    "To run the production simulation, it is necessary to initialize the .cndb file to save the chromatin dynamics trajectory."
   ]
  },
  {
   "cell_type": "code",
   "execution_count": 19,
   "metadata": {},
   "outputs": [],
   "source": [
    "sim.initStorage(filename=\"traj_chr10\")"
   ]
  },
  {
   "cell_type": "markdown",
   "metadata": {},
   "source": [
    "Set the parameters of the production simulation:\n",
    "\n",
    "$block = 5\\times10^2$ </br> \n",
    "$n\\_blocks = 2\\times10^3$ "
   ]
  },
  {
   "cell_type": "code",
   "execution_count": 20,
   "metadata": {},
   "outputs": [],
   "source": [
    "block = 5*10**2\n",
    "n_blocks = 2*10**1"
   ]
  },
  {
   "cell_type": "code",
   "execution_count": 21,
   "metadata": {
    "scrolled": true,
    "tags": []
   },
   "outputs": [
    {
     "name": "stdout",
     "output_type": "stream",
     "text": [
      "bl=21 pos[1]=[156.4 -5.1 13.0] dr=2.44 t=0.0ps kin=2.02 pot=21.19 Rg=113.213 SPS=159 \n",
      "bl=22 pos[1]=[154.7 -4.7 12.0] dr=1.80 t=0.0ps kin=1.70 pot=21.19 Rg=111.910 SPS=501 \n",
      "bl=23 pos[1]=[153.8 -3.8 9.9] dr=1.48 t=0.0ps kin=1.53 pot=21.21 Rg=111.092 SPS=488 \n",
      "bl=24 pos[1]=[151.4 -4.2 9.2] dr=1.34 t=0.0ps kin=1.52 pot=21.18 Rg=110.590 SPS=436 \n",
      "bl=25 pos[1]=[150.4 -4.2 9.4] dr=1.25 t=0.0ps kin=1.54 pot=21.15 Rg=110.250 SPS=481 \n",
      "bl=26 pos[1]=[150.5 -4.9 8.5] dr=1.25 t=0.0ps kin=1.48 pot=21.15 Rg=110.016 SPS=516 \n",
      "bl=27 pos[1]=[151.9 -5.9 7.8] dr=1.25 t=0.0ps kin=1.50 pot=21.17 Rg=109.860 SPS=461 \n",
      "bl=28 pos[1]=[151.6 -7.7 10.2] dr=1.26 t=0.0ps kin=1.46 pot=21.15 Rg=109.767 SPS=447 \n",
      "bl=29 pos[1]=[151.1 -8.2 11.4] dr=1.24 t=0.0ps kin=1.53 pot=21.18 Rg=109.686 SPS=514 \n",
      "bl=30 pos[1]=[150.8 -6.8 11.0] dr=1.24 t=0.0ps kin=1.51 pot=21.17 Rg=109.603 SPS=466 \n",
      "bl=31 pos[1]=[150.9 -8.1 11.4] dr=1.25 t=0.0ps kin=1.52 pot=21.16 Rg=109.568 SPS=479 \n",
      "bl=32 pos[1]=[150.6 -8.4 11.9] dr=1.24 t=0.0ps kin=1.49 pot=21.17 Rg=109.564 SPS=505 \n",
      "bl=33 pos[1]=[149.8 -7.4 12.6] dr=1.24 t=0.0ps kin=1.48 pot=21.19 Rg=109.589 SPS=391 \n",
      "bl=34 pos[1]=[150.3 -6.0 14.4] dr=1.28 t=0.0ps kin=1.58 pot=21.18 Rg=109.644 SPS=429 \n",
      "bl=35 pos[1]=[151.3 -6.7 15.7] dr=1.25 t=0.0ps kin=1.58 pot=21.21 Rg=109.672 SPS=401 \n",
      "bl=36 pos[1]=[150.9 -6.0 15.4] dr=1.28 t=0.0ps kin=1.56 pot=21.17 Rg=109.679 SPS=481 \n",
      "bl=37 pos[1]=[147.7 -6.7 16.0] dr=1.28 t=0.0ps kin=1.52 pot=21.15 Rg=109.684 SPS=419 \n",
      "bl=38 pos[1]=[146.2 -4.1 17.1] dr=1.23 t=0.0ps kin=1.50 pot=21.14 Rg=109.658 SPS=454 \n",
      "bl=39 pos[1]=[145.6 -3.7 16.4] dr=1.24 t=0.0ps kin=1.51 pot=21.14 Rg=109.623 SPS=516 \n",
      "bl=40 pos[1]=[146.2 -4.4 15.5] dr=1.24 t=0.0ps kin=1.47 pot=21.13 Rg=109.585 SPS=551 \n"
     ]
    }
   ],
   "source": [
    "for _ in range(n_blocks):\n",
    "    sim.runSimBlock(block, increment=True) \n",
    "    sim.saveStructure()"
   ]
  },
  {
   "cell_type": "markdown",
   "metadata": {},
   "source": [
    "Once the simulation is completed, it is necessary to close the .cndb file to avoid losing the trajectory data."
   ]
  },
  {
   "cell_type": "code",
   "execution_count": 22,
   "metadata": {},
   "outputs": [],
   "source": [
    "sim.storage[0].close()"
   ]
  },
  {
   "cell_type": "markdown",
   "metadata": {},
   "source": [
    "The simulation should generate the `traj_chr10_0.cndb` trajectory file in the output_chr10 folder. This file contains 2000 frames (one snapshot per block)."
   ]
  },
  {
   "cell_type": "markdown",
   "metadata": {},
   "source": [
    "#### Trajectory analysis using cndbTools"
   ]
  },
  {
   "cell_type": "markdown",
   "metadata": {},
   "source": [
    "`cndbTools` is a class that allows analyses in the chromatin dynamics trajectories using the binary format [.cndb](https://ndb.rice.edu/ndb-format) (compact ndb)."
   ]
  },
  {
   "cell_type": "code",
   "execution_count": 2,
   "metadata": {},
   "outputs": [],
   "source": [
    "cndbTools = cndbTools()"
   ]
  },
  {
   "cell_type": "markdown",
   "metadata": {},
   "source": [
    "Load the cndb file in the variable `chr10_traj`."
   ]
  },
  {
   "cell_type": "code",
   "execution_count": 3,
   "metadata": {},
   "outputs": [],
   "source": [
    "chr10_traj = cndbTools.load('output_chr10/traj_chr10_0.cndb')"
   ]
  },
  {
   "cell_type": "code",
   "execution_count": 4,
   "metadata": {},
   "outputs": [
    {
     "name": "stdout",
     "output_type": "stream",
     "text": [
      "<CndbTools.cndbTools object at 0x1106a17c0>\n",
      "Cndb file has 20 frames, with 2712 beads and {'A2', 'NA', 'B3', 'B2', 'B1', 'A1'} types \n"
     ]
    }
   ],
   "source": [
    "print(chr10_traj) # Print the information of the cndb trajectory."
   ]
  },
  {
   "cell_type": "markdown",
   "metadata": {},
   "source": [
    "Extract the loci XYZ position over the simulated 2000 frames and save in the variable `chr10_xyz`."
   ]
  },
  {
   "cell_type": "code",
   "execution_count": 5,
   "metadata": {},
   "outputs": [],
   "source": [
    "chr10_xyz = cndbTools.xyz(frames=[21,41,1], beadSelection='all', XYZ=[0,1,2])"
   ]
  },
  {
   "cell_type": "markdown",
   "metadata": {},
   "source": [
    "The variable `chr10_xyz` allows the cndbTools to perform several analyses.\n",
    "In this example, the radius of gyration can be obtained as a function of the simulated frames."
   ]
  },
  {
   "cell_type": "code",
   "execution_count": 6,
   "metadata": {},
   "outputs": [
    {
     "data": {
      "text/plain": [
       "Text(0.5, 0, 'Simulation Frames')"
      ]
     },
     "execution_count": 6,
     "metadata": {},
     "output_type": "execute_result"
    },
    {
     "data": {
      "image/png": "[encoded data removed]",
      "text/plain": [
       "<Figure size 640x480 with 1 Axes>"
      ]
     },
     "metadata": {},
     "output_type": "display_data"
    }
   ],
   "source": [
    "import matplotlib.pyplot as plt\n",
    "import matplotlib as mpl\n",
    "\n",
    "\n",
    "chr10_RG = cndbTools.compute_RG(chr10_xyz)\n",
    "plt.plot(chr10_RG)\n",
    "plt.ylabel(r'Radius of Gyration ($\\sigma$)',fontsize=11)\n",
    "plt.xlabel(r'Simulation Frames',fontsize=11)"
   ]
  },
  {
   "cell_type": "markdown",
   "metadata": {},
   "source": [
    "`cndbTools` allows the selection of beads to compute the analyses. An example is the Radial Distribution Probability (RDP) for each chromatin subcompartments A1 and B1."
   ]
  },
  {
   "cell_type": "code",
   "execution_count": 7,
   "metadata": {},
   "outputs": [],
   "source": [
    "chr10_A1 = cndbTools.xyz(frames=[21,41,1], beadSelection=chr10_traj.dictChromSeq['A1'], XYZ=[0,1,2])\n",
    "chr10_B1 = cndbTools.xyz(frames=[21,41,1], beadSelection=chr10_traj.dictChromSeq['B1'], XYZ=[0,1,2])"
   ]
  },
  {
   "cell_type": "code",
   "execution_count": 21,
   "metadata": {},
   "outputs": [
    {
     "name": "stdout",
     "output_type": "stream",
     "text": [
      "Computing RDP...\n"
     ]
    }
   ],
   "source": [
    "print(\"Computing RDP...\")\n",
    "r_A1, RDP_chr10_A1 = cndbTools.compute_RDP(chr10_A1, radius=15.0, bins=200)\n",
    "r_B1, RDP_chr10_B1 = cndbTools.compute_RDP(chr10_B1, radius=15.0, bins=200)"
   ]
  },
  {
   "cell_type": "code",
   "execution_count": 22,
   "metadata": {},
   "outputs": [
    {
     "data": {
      "text/plain": [
       "(0.005, 15.0)"
      ]
     },
     "execution_count": 22,
     "metadata": {},
     "output_type": "execute_result"
    },
    {
     "data": {
      "image/png": "[encoded data removed]",
      "text/plain": [
       "<Figure size 640x480 with 1 Axes>"
      ]
     },
     "metadata": {},
     "output_type": "display_data"
    }
   ],
   "source": [
    "plt.plot(r_A1, RDP_chr10_A1, color='red', label='A')\n",
    "plt.plot(r_B1, RDP_chr10_B1, color='blue', label='B')\n",
    "plt.xlabel(r'r ($\\sigma$)', fontsize=11,fontweight='normal', color='k')\n",
    "plt.ylabel(r'$\\rho(r)/N_{type}$', fontsize=11,fontweight='normal', color='k')\n",
    "plt.legend()\n",
    "plt.gca().set_xlim([1/200,15.0])"
   ]
  },
  {
   "cell_type": "markdown",
   "metadata": {},
   "source": [
    "We can also use `cndbTools` to generate the *in silico* Hi-C map (contact probability matrix).\n",
    "\n",
    "In this tutorial, the trajectory contains 2,000 snapshots of chromosome 10 of the GM12878 cell line. For this set of structures, we expect the *in silico* Hi-C to not be fully converged due to inadequate sampling. \n",
    "To produce a converged map, it is recommended to simulate around 20 replicas with 10,000 frames on each, which generates an ensemble of 200,000 chromosome structures."
   ]
  },
  {
   "cell_type": "code",
   "execution_count": 23,
   "metadata": {},
   "outputs": [
    {
     "name": "stdout",
     "output_type": "stream",
     "text": [
      "Generating the contact probability matrix...\n",
      "Reading frame 0 of 20\n"
     ]
    }
   ],
   "source": [
    "print(\"Generating the contact probability matrix...\")\n",
    "chr10_sim_HiC = cndbTools.traj2HiC(chr10_xyz)"
   ]
  },
  {
   "cell_type": "code",
   "execution_count": 24,
   "metadata": {},
   "outputs": [
    {
     "data": {
      "text/plain": [
       "<matplotlib.colorbar.Colorbar at 0x146489b20>"
      ]
     },
     "execution_count": 24,
     "metadata": {},
     "output_type": "execute_result"
    },
    {
     "data": {
      "image/png": "[encoded data removed]",
      "text/plain": [
       "<Figure size 480x480 with 2 Axes>"
      ]
     },
     "metadata": {},
     "output_type": "display_data"
    }
   ],
   "source": [
    "plt.matshow(chr10_sim_HiC, norm=mpl.colors.LogNorm(vmin=0.001, vmax=chr10_sim_HiC.max()),cmap=\"Reds\")  \n",
    "plt.colorbar()"
   ]
  },
  {
   "cell_type": "markdown",
   "metadata": {},
   "source": [
    "To visualize the chromosome's 3D structures in the standard visualization softwares for macromolecules, there are available scripts for converting the `ndb`/`cndb` file format to `.pdb` and `.gro`. For details, please check the [Nucleome Data Bank](https://ndb.rice.edu/ndb-format).\n",
    "\n",
    "The `ndb` plugin for visualizing the chromatin dynamics trajectories in VMD/Chimera/Pymol is under development."
   ]
  },
  {
   "cell_type": "markdown",
   "metadata": {},
   "source": []
  }
 ],
 "metadata": {
  "kernelspec": {
   "display_name": "Python 3.9.5 ('base')",
   "language": "python",
   "name": "python3"
  },
  "language_info": {
   "codemirror_mode": {
    "name": "ipython",
    "version": 3
   },
   "file_extension": ".py",
   "mimetype": "text/x-python",
   "name": "python",
   "nbconvert_exporter": "python",
   "pygments_lexer": "ipython3",
   "version": "3.9.13"
  },
  "vscode": {
   "interpreter": {
    "hash": "1daa29a22c4a780fd30ab100435dab8455ec63fac5e57a72363883544b69adf6"
   }
  }
 },
 "nbformat": 4,
 "nbformat_minor": 4
}
