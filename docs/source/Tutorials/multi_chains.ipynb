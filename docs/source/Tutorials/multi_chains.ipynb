{
 "cells": [
  {
   "cell_type": "markdown",
   "metadata": {},
   "source": [
    "# Tutorial: A multiple chain chromosomes simulation using Open-MiChroM\n"
   ]
  },
  {
   "cell_type": "markdown",
   "metadata": {},
   "source": [
    "The first thing is import the openmichrom module, to install openmm and openmichrom follow the instalation guide on (www..rice.edu)"
   ]
  },
  {
   "cell_type": "code",
   "execution_count": 1,
   "metadata": {},
   "outputs": [],
   "source": [
    "import openmichrom as OM"
   ]
  },
  {
   "cell_type": "markdown",
   "metadata": {},
   "source": [
    "In this tutorial we are simulate the chromosome 10 and 11 of human genome GM12878.<br>\n",
    "\n",
    "To build this system we need start from a compacted structure of each chromossome.<br>\n",
    "For this, we are perform short simulations of each, separatly, and then, save a structure model of each<br>\n"
   ]
  },
  {
   "cell_type": "markdown",
   "metadata": {},
   "source": [
    "Details about single chromosome simulation are in single chromosome tutorial (link)<br>\n",
    "\n",
    "**Chromosome 10 short simulation**"
   ]
  },
  {
   "cell_type": "code",
   "execution_count": 2,
   "metadata": {},
   "outputs": [
    {
     "name": "stdout",
     "output_type": "stream",
     "text": [
      "Perform chr10 simulation...\n",
      "Number of exceptions:\n",
      "First neighbor= 2711\n",
      "Second neighbor= 2710\n",
      "adding force  FENEBond 0\n",
      "adding force  AngleForce 1\n",
      "Add exclusions for RepulsiveSoftCore force (1 neighbor)\n",
      "adding force  RepulsiveSoftCore 2\n",
      "adding force  SphericalConfinement 3\n",
      "Add exclusions for TypetoType force (1 neighbor)\n",
      "adding force  TypetoType 4\n",
      "adding force  Loops 5\n",
      "Add exclusions for IdealChromosome force (1 neighbor)\n",
      "adding force  IdealChromosome 6\n",
      "Positions... \n",
      " loaded!\n",
      "potential energy is 577.192754\n"
     ]
    }
   ],
   "source": [
    "chr10 = OM.OpenMiChroM(name='chr10', temperature=120, timestep=0.01)\n",
    "chr10.setup(platform=\"cuda\")\n",
    "chr10.saveFolder('/home/antonio/multiple_chr/')\n",
    "mychro = chr10.create_springSpiral(type_list='/home/antonio/openmichrom1.0/Tutorial/multiple_chromosome/chr10_beads.txt')\n",
    "chr10.load(mychro, center=True)\n",
    "\n",
    "chr10.addFENEBonds(k=30.0)\n",
    "chr10.addAngles(k=1.0)\n",
    "chr10.addRepulsiveSoftCore(Ecut=4.0)\n",
    "chr10.addSphericalConfinement(density=0.1, k=5)\n",
    "\n",
    "chr10.addTypetoType(mi=3.22, rc = 1.78)\n",
    "chr10.addLoops(mi=3.22, rc = 1.78, X=-1.612990,\n",
    "                 filename=['/home/antonio/openmichrom1.0/Tutorial/single_chromosome/chr10_looplist.txt'])\n",
    "chr10.addIdealChromosome(mi=3.22, rc = 1.78, dcutl=3, dcutupper=500)\n",
    "\n",
    "print(\"Perform chr10 simulation...\")\n",
    "for _ in range(300):\n",
    "    chr10.doBlock(1000, output=False)\n",
    "\n",
    "chr10.save(mode=\"ndb\")\n",
    "del chr10"
   ]
  },
  {
   "cell_type": "markdown",
   "metadata": {},
   "source": [
    "**Chromosome 11 short simulation**"
   ]
  },
  {
   "cell_type": "code",
   "execution_count": null,
   "metadata": {},
   "outputs": [],
   "source": [
    "chr11 = OM.OpenMiChroM(name='chr11', temperature=120, timestep=0.01)\n",
    "chr11.setup(platform=\"cuda\")\n",
    "chr11.saveFolder('/home/antonio/multiple_chr/')\n",
    "mychro = chr11.create_springSpiral(type_list='/home/antonio/openmichrom1.0/Tutorial/multiple_chromosome/chr11_beads.txt')\n",
    "chr11.load(mychro, center=True)\n",
    "\n",
    "chr11.addFENEBonds(k=30.0)\n",
    "chr11.addAngles(k=1.0)\n",
    "chr11.addRepulsiveSoftCore(Ecut=4.0)\n",
    "chr11.addSphericalConfinement(density=0.1, k=5)\n",
    "\n",
    "chr11.addTypetoType(mi=3.22, rc = 1.78)\n",
    "chr11.addLoops(mi=3.22, rc = 1.78, X=-1.612990,\n",
    "                 filename=['/home/antonio/openmichrom1.0/Tutorial/multiple_chromosome/chr11_looplist.txt'])\n",
    "chr11.addIdealChromosome(mi=3.22, rc = 1.78, dcutl=3, dcutupper=500)\n",
    "\n",
    "print(\"Perform chr11 simulation...\")\n",
    "for _ in range(300):\n",
    "    chr11.doBlock(1000, output=False)\n",
    "\n",
    "chr11.save(mode=\"ndb\")\n",
    "del chr11"
   ]
  },
  {
   "cell_type": "markdown",
   "metadata": {},
   "source": [
    "Now we have compacted structures of each chromosome\n",
    "\n",
    "To visualize the ndb files we can use the ndb converter that can be download \n",
    "in https://ndb.rice.edu/ndb-format"
   ]
  },
  {
   "cell_type": "markdown",
   "metadata": {},
   "source": [
    "We can create the multiple chain configuration using the 2 structures"
   ]
  },
  {
   "cell_type": "markdown",
   "metadata": {},
   "source": [
    "in OpenMichroM initiation there are some variable to setup:\n",
    "\n",
    "**timestep=0.01** (the time step using for integration, default is 0.01)<br>\n",
    "**thermostat=0.1** (the Langevin thermostat, defaut value is 10, e.g., 0.1)<br>\n",
    "**temperature=120** (Set the temperature of your simulation)<br>\n",
    "**name='mult_chr10_chr11'** (the simulation name)<br>"
   ]
  },
  {
   "cell_type": "code",
   "execution_count": 31,
   "metadata": {},
   "outputs": [],
   "source": [
    "chain_C10_c11 = OM.OpenMiChroM(name='mult_chr10_chr11', temperature=120, timestep=0.01)"
   ]
  },
  {
   "cell_type": "markdown",
   "metadata": {},
   "source": [
    "Now you need to setup the plataform that you use, the options are:\n",
    "\n",
    "**platform=\"cuda\"** (remenber that you need install CUDA in your system)<br>\n",
    "**GPU=\"0\" (optional)** (if you have more than one GPU device, you can set the what gpu you wnat [\"0\", \"1\",...,\"n\"])<br>\n",
    "**platform=\"cpu\"**<br>\n",
    "**platform=\"opencl\"**<br>"
   ]
  },
  {
   "cell_type": "code",
   "execution_count": 32,
   "metadata": {},
   "outputs": [],
   "source": [
    "chain_C10_c11.setup(platform=\"cuda\", integrator=\"Langevin\")"
   ]
  },
  {
   "cell_type": "markdown",
   "metadata": {},
   "source": [
    "Set the Folder name where output are save"
   ]
  },
  {
   "cell_type": "code",
   "execution_count": 33,
   "metadata": {},
   "outputs": [],
   "source": [
    "chain_C10_c11.saveFolder('/home/antonio/multiple_chr/')"
   ]
  },
  {
   "cell_type": "markdown",
   "metadata": {},
   "source": [
    "To load structures that we have create above, we use the command: **loadNdb** <br>\n",
    "\n",
    "loadNdb needs a list of files, even you want load just 1 chromossome.\n",
    "\n",
    "**Note: Its very important that the ndb files have the same order as the loops files order**"
   ]
  },
  {
   "cell_type": "code",
   "execution_count": 34,
   "metadata": {},
   "outputs": [
    {
     "name": "stdout",
     "output_type": "stream",
     "text": [
      "Chains:  [(0, 2711, 0), (2712, 5414, 0)]\n"
     ]
    }
   ],
   "source": [
    "dual_chro = chain_C10_c11.loadNdb(['/home/antonio/multiple_chr/chr10_0_block300.ndb',\n",
    "                                   '/home/antonio/multiple_chr/chr11_0_block300.ndb'])"
   ]
  },
  {
   "cell_type": "markdown",
   "metadata": {},
   "source": [
    "Dual_chro have the full array of positions of boths chromosomes\n",
    "\n",
    "The variable chains shows the size of each chromosome in tuples.<br>\n",
    "where (start,end,is_ring), is_ring=0 represents a linear chain and is_ring=1 when is it a ring\n",
    "\n",
    "You can call any time this variable to check the chains:"
   ]
  },
  {
   "cell_type": "code",
   "execution_count": 35,
   "metadata": {},
   "outputs": [
    {
     "name": "stdout",
     "output_type": "stream",
     "text": [
      "[(0, 2711, 0), (2712, 5414, 0)]\n"
     ]
    }
   ],
   "source": [
    "print(chain_C10_c11.chains)"
   ]
  },
  {
   "cell_type": "markdown",
   "metadata": {},
   "source": [
    "For exemple, to check the chromossome 10 positions (X,Y,Z):"
   ]
  },
  {
   "cell_type": "code",
   "execution_count": 36,
   "metadata": {},
   "outputs": [
    {
     "name": "stdout",
     "output_type": "stream",
     "text": [
      "[[-2.242  2.145 -3.158]\n",
      " [-2.354  2.192 -4.084]\n",
      " [-1.598  2.469 -4.622]\n",
      " ...\n",
      " [-3.037 -0.263  0.345]\n",
      " [-3.503 -0.755 -0.339]\n",
      " [-2.807 -1.422 -0.063]]\n"
     ]
    }
   ],
   "source": [
    "print(dual_chro[chain_C10_c11.chains[0][0]:chain_C10_c11.chains[0][1]+1])"
   ]
  },
  {
   "cell_type": "markdown",
   "metadata": {},
   "source": [
    "Before load the structures in the context, we are use a distribution function to set the position of each chromossome in a random way\n",
    "\n",
    "**note: Its important if want replicas in different initial conditions**"
   ]
  },
  {
   "cell_type": "code",
   "execution_count": 37,
   "metadata": {},
   "outputs": [],
   "source": [
    "dual_chro = chain_C10_c11.setfibposition(dual_chro, dist=(1.5,3.0))"
   ]
  },
  {
   "cell_type": "markdown",
   "metadata": {},
   "source": [
    "Now We can load the chromossome in the simulation context"
   ]
  },
  {
   "cell_type": "code",
   "execution_count": 38,
   "metadata": {},
   "outputs": [],
   "source": [
    "chain_C10_c11.load(dual_chro, center=True)"
   ]
  },
  {
   "cell_type": "markdown",
   "metadata": {},
   "source": [
    "You can save a structure to visualize de initial position\n",
    "\n",
    "**when you have multiple chains in the context, the save function will save each structure separatly, each structure have a index star from 0** \n",
    "\n",
    "in this case, 0 is for chr10 and 1 is for chr11"
   ]
  },
  {
   "cell_type": "code",
   "execution_count": 40,
   "metadata": {},
   "outputs": [],
   "source": [
    "chain_C10_c11.save(mode='ndb')"
   ]
  },
  {
   "cell_type": "markdown",
   "metadata": {},
   "source": [
    "Now its time to include the forces of your system\n",
    "\n",
    "Lets separete forçes in two sets:\n",
    "\n",
    "**homopolymer Potentials**"
   ]
  },
  {
   "cell_type": "code",
   "execution_count": 41,
   "metadata": {},
   "outputs": [
    {
     "data": {
      "text/plain": [
       "23.46947171645543"
      ]
     },
     "execution_count": 41,
     "metadata": {},
     "output_type": "execute_result"
    }
   ],
   "source": [
    "chain_C10_c11.addFENEBonds(k=30.0)\n",
    "chain_C10_c11.addAngles(k=1.0)\n",
    "chain_C10_c11.addRepulsiveSoftCore(Ecut=4.0)\n",
    "chain_C10_c11.addSphericalConfinement(density=0.1, k=5)"
   ]
  },
  {
   "cell_type": "markdown",
   "metadata": {},
   "source": [
    "**Chromosome Potentials**\n",
    "\n",
    "here we include each force separatly"
   ]
  },
  {
   "cell_type": "markdown",
   "metadata": {},
   "source": [
    "Types to types intaraction is the same for all"
   ]
  },
  {
   "cell_type": "code",
   "execution_count": 42,
   "metadata": {},
   "outputs": [],
   "source": [
    "chain_C10_c11.addTypetoType(mi=3.22, rc = 1.78)"
   ]
  },
  {
   "cell_type": "markdown",
   "metadata": {},
   "source": [
    "The Loops interaction we must be carefull, the file name must follow the same order as the loadNdb funciton"
   ]
  },
  {
   "cell_type": "code",
   "execution_count": 43,
   "metadata": {},
   "outputs": [],
   "source": [
    "chain_C10_c11.addLoops(mi=3.22, rc = 1.78, X=-1.612990,\n",
    "                      filename=['/home/antonio/openmichrom1.0/Tutorial/multiple_chromosome/chr10_looplist.txt',\n",
    "                                '/home/antonio/openmichrom1.0/Tutorial/multiple_chromosome/chr11_looplist.txt']\n",
    "                      )"
   ]
  },
  {
   "cell_type": "markdown",
   "metadata": {},
   "source": [
    "To Ideal Chromossome potential we have 1 force for each chromossome\n",
    "\n",
    "For this, we use another function \"addPoliIdealChromosome\" <br>\n",
    "This function recives as input the chain that we want apply this potential\n",
    "\n",
    "**note: the chains can be read from variable \"chains\", for exemple, In this case we can call it from the object chain_C10_c11.chains**  \n",
    "\n",
    "**note 2: here we apply the ideal chromossome from d = 3 to 500, this values can reach the chromosome size if you want**"
   ]
  },
  {
   "cell_type": "code",
   "execution_count": 44,
   "metadata": {},
   "outputs": [],
   "source": [
    "chain_C10_c11.addPoliIdealChromosome(chain=chain_C10_c11.chains[0], mi=3.22, rc = 1.78, dcutl=3, dcutupper=500)\n",
    "chain_C10_c11.addPoliIdealChromosome(chain=chain_C10_c11.chains[1], mi=3.22, rc = 1.78, dcutl=3, dcutupper=500)"
   ]
  },
  {
   "cell_type": "markdown",
   "metadata": {},
   "source": [
    "**The simulation setup is complete!**\n",
    "\n",
    "Now I will create a file .cndb (binary) to save the frames\n",
    "\n",
    "The file will be saved in output folder defined earlier<br>\n",
    "In multiple chain simulations each chromossome will be saved separatly, follow the same ideia described above for save function"
   ]
  },
  {
   "cell_type": "code",
   "execution_count": 45,
   "metadata": {},
   "outputs": [],
   "source": [
    "chain_C10_c11.initStorage('multChain_C10C11', mode='w')"
   ]
  },
  {
   "cell_type": "markdown",
   "metadata": {},
   "source": [
    "The Open-MiChroM simulation works in blocks of simulations\n",
    "\n",
    "for exemple, if want to run $1\\times10^8$ steps, saving a frame each $10^3$ steps \n",
    "\n",
    "block = 10^3\n",
    "n_block = 10^5\n"
   ]
  },
  {
   "cell_type": "code",
   "execution_count": 46,
   "metadata": {},
   "outputs": [],
   "source": [
    "block = 10**2\n",
    "n_blocks = 10**2"
   ]
  },
  {
   "cell_type": "code",
   "execution_count": 48,
   "metadata": {},
   "outputs": [
    {
     "name": "stdout",
     "output_type": "stream",
     "text": [
      "Number of exceptions:\n",
      "First neighbor= 5413\n",
      "Second neighbor= 5411\n",
      "adding force  FENEBond 0\n",
      "adding force  AngleForce 1\n",
      "Add exclusions for RepulsiveSoftCore force (1 neighbor)\n",
      "adding force  RepulsiveSoftCore 2\n",
      "adding force  SphericalConfinement 3\n",
      "Add exclusions for TypetoType force (1 neighbor)\n",
      "adding force  TypetoType 4\n",
      "adding force  Loops 5\n",
      "Add exclusions for IdealChromosome_chain_0 force (1 neighbor)\n",
      "adding force  IdealChromosome_chain_0 6\n",
      "Add exclusions for IdealChromosome_chain_2712 force (1 neighbor)\n",
      "adding force  IdealChromosome_chain_2712 7\n",
      "Positions... \n",
      " loaded!\n",
      "potential energy is 37.723863\n",
      "bl=1 pos[1]=[18.1 15.3 8.9] dr=0.42 t=1.0ps kin=2.30 pot=36.88 Rg=26.490 SPS=131 \n",
      "bl=2 pos[1]=[17.5 15.1 8.5] dr=0.68 t=2.0ps kin=4.28 pot=34.56 Rg=25.963 SPS=358 \n",
      "bl=3 (i) pos[1]=[16.6 14.4 8.0] dr=0.94 t=3.0ps kin=6.68 pot=31.41 Rg=25.155 SPS=363 \n",
      "bl=4 pos[1]=[16.6 14.2 7.9] dr=0.39 t=4.0ps kin=2.13 pot=30.72 Rg=25.011 SPS=362 \n",
      "bl=5 pos[1]=[16.2 13.9 7.6] dr=0.59 t=5.0ps kin=3.51 pot=29.08 Rg=24.585 SPS=365 \n",
      "bl=6 pos[1]=[15.6 13.1 7.2] dr=0.80 t=6.0ps kin=5.18 pot=26.83 Rg=23.930 SPS=361 \n",
      "bl=7 (i) pos[1]=[14.6 13.2 7.1] dr=0.97 t=7.0ps kin=6.69 pot=24.43 Rg=23.106 SPS=361 \n",
      "bl=8 pos[1]=[14.5 13.1 7.2] dr=0.36 t=8.0ps kin=1.99 pot=23.87 Rg=23.006 SPS=361 \n",
      "bl=9 pos[1]=[14.6 13.6 7.1] dr=0.48 t=9.0ps kin=2.66 pot=23.05 Rg=22.728 SPS=365 \n",
      "bl=10 pos[1]=[14.5 13.7 7.1] dr=0.60 t=10.0ps kin=3.37 pot=22.04 Rg=22.310 SPS=365 \n",
      "bl=11 pos[1]=[13.9 13.0 6.9] dr=0.69 t=11.0ps kin=3.92 pot=21.05 Rg=21.801 SPS=365 \n",
      "bl=12 pos[1]=[13.8 13.0 6.6] dr=0.74 t=12.0ps kin=4.18 pot=20.27 Rg=21.246 SPS=354 \n",
      "bl=13 pos[1]=[12.7 12.7 6.1] dr=0.75 t=13.0ps kin=4.10 pot=19.84 Rg=20.692 SPS=363 \n",
      "bl=14 pos[1]=[12.4 12.4 5.7] dr=0.73 t=14.0ps kin=3.79 pot=19.66 Rg=20.170 SPS=365 \n",
      "bl=15 pos[1]=[12.1 11.9 5.7] dr=0.69 t=15.0ps kin=3.45 pot=19.59 Rg=19.697 SPS=363 \n",
      "bl=16 pos[1]=[11.7 11.0 5.1] dr=0.65 t=16.0ps kin=3.12 pot=19.55 Rg=19.275 SPS=361 \n",
      "bl=17 pos[1]=[11.4 11.0 4.8] dr=0.61 t=17.0ps kin=2.84 pot=19.52 Rg=18.899 SPS=363 \n",
      "bl=18 pos[1]=[11.1 10.7 4.5] dr=0.58 t=18.0ps kin=2.63 pot=19.48 Rg=18.564 SPS=366 \n",
      "bl=19 pos[1]=[10.8 10.7 4.6] dr=0.54 t=19.0ps kin=2.45 pot=19.47 Rg=18.264 SPS=362 \n",
      "bl=20 pos[1]=[10.7 11.0 3.9] dr=0.52 t=20.0ps kin=2.30 pot=19.44 Rg=17.994 SPS=367 \n",
      "bl=21 pos[1]=[10.5 10.8 3.7] dr=0.50 t=21.0ps kin=2.20 pot=19.40 Rg=17.752 SPS=356 \n",
      "bl=22 pos[1]=[10.1 10.5 3.3] dr=0.48 t=22.0ps kin=2.08 pot=19.40 Rg=17.532 SPS=355 \n",
      "bl=23 pos[1]=[9.9 10.4 2.9] dr=0.46 t=23.0ps kin=1.95 pot=19.41 Rg=17.333 SPS=357 \n",
      "bl=24 pos[1]=[9.8 10.4 2.5] dr=0.45 t=24.0ps kin=1.91 pot=19.38 Rg=17.156 SPS=358 \n",
      "bl=25 pos[1]=[9.7 10.2 2.0] dr=0.44 t=25.0ps kin=1.87 pot=19.35 Rg=16.995 SPS=360 \n",
      "bl=26 pos[1]=[9.9 9.8 1.8] dr=0.43 t=26.0ps kin=1.82 pot=19.33 Rg=16.847 SPS=364 \n",
      "bl=27 pos[1]=[9.8 9.8 1.8] dr=0.42 t=27.0ps kin=1.76 pot=19.33 Rg=16.714 SPS=364 \n",
      "bl=28 pos[1]=[9.7 9.7 1.9] dr=0.42 t=28.0ps kin=1.76 pot=19.28 Rg=16.593 SPS=365 \n",
      "bl=29 pos[1]=[9.7 9.7 1.8] dr=0.41 t=29.0ps kin=1.72 pot=19.28 Rg=16.482 SPS=365 \n",
      "bl=30 pos[1]=[9.9 9.6 2.0] dr=0.40 t=30.0ps kin=1.68 pot=19.26 Rg=16.381 SPS=364 \n",
      "bl=31 pos[1]=[9.5 9.6 2.0] dr=0.40 t=31.0ps kin=1.66 pot=19.24 Rg=16.289 SPS=357 \n",
      "bl=32 pos[1]=[9.0 9.2 2.2] dr=0.40 t=32.0ps kin=1.63 pot=19.24 Rg=16.206 SPS=361 \n",
      "bl=33 pos[1]=[8.6 8.9 2.2] dr=0.39 t=33.0ps kin=1.61 pot=19.21 Rg=16.129 SPS=362 \n",
      "bl=34 pos[1]=[8.4 8.7 2.2] dr=0.39 t=34.0ps kin=1.62 pot=19.20 Rg=16.059 SPS=362 \n",
      "bl=35 pos[1]=[8.2 8.7 2.3] dr=0.39 t=35.0ps kin=1.62 pot=19.17 Rg=15.996 SPS=362 \n",
      "bl=36 pos[1]=[8.3 8.6 2.5] dr=0.38 t=36.0ps kin=1.61 pot=19.17 Rg=15.939 SPS=363 \n",
      "bl=37 pos[1]=[8.6 8.5 2.9] dr=0.38 t=37.0ps kin=1.57 pot=19.18 Rg=15.889 SPS=362 \n",
      "bl=38 pos[1]=[8.8 8.6 3.1] dr=0.38 t=38.0ps kin=1.60 pot=19.14 Rg=15.843 SPS=363 \n",
      "bl=39 pos[1]=[8.9 8.7 3.2] dr=0.38 t=39.0ps kin=1.56 pot=19.15 Rg=15.800 SPS=361 \n",
      "bl=40 pos[1]=[8.8 8.5 3.1] dr=0.38 t=40.0ps kin=1.56 pot=19.12 Rg=15.760 SPS=360 \n",
      "bl=41 pos[1]=[8.8 8.1 3.1] dr=0.38 t=41.0ps kin=1.55 pot=19.13 Rg=15.724 SPS=360 \n",
      "bl=42 pos[1]=[9.1 8.2 2.8] dr=0.38 t=42.0ps kin=1.55 pot=19.13 Rg=15.693 SPS=360 \n",
      "bl=43 pos[1]=[9.4 8.3 2.6] dr=0.38 t=43.0ps kin=1.54 pot=19.11 Rg=15.665 SPS=361 \n",
      "bl=44 pos[1]=[9.6 8.2 2.7] dr=0.38 t=44.0ps kin=1.53 pot=19.11 Rg=15.639 SPS=362 \n",
      "bl=45 pos[1]=[9.7 8.6 2.5] dr=0.38 t=45.0ps kin=1.54 pot=19.11 Rg=15.616 SPS=361 \n",
      "bl=46 pos[1]=[9.8 8.9 2.1] dr=0.37 t=46.0ps kin=1.53 pot=19.12 Rg=15.598 SPS=360 \n",
      "bl=47 pos[1]=[9.7 8.8 2.3] dr=0.37 t=47.0ps kin=1.52 pot=19.11 Rg=15.579 SPS=360 \n",
      "bl=48 pos[1]=[9.4 8.5 2.0] dr=0.37 t=48.0ps kin=1.52 pot=19.11 Rg=15.561 SPS=361 \n",
      "bl=49 pos[1]=[9.5 8.1 2.2] dr=0.37 t=49.0ps kin=1.51 pot=19.11 Rg=15.544 SPS=360 \n",
      "\n",
      "Statistics for the simulation mult_chr10_chr11, number of particles: 5415,  number of chains: 2\n",
      "\n",
      "Statistics for particle position\n",
      "     mean position is:  [ 0.01678421 -0.1353331  -0.00744794]   Rg =  15.544174\n",
      "     median bond size is  0.9639277560281021\n",
      "     three shortest/longest (<10)/ bonds are  [0.86569826 0.8716583  0.88084663]    [1.09762656 1.10018915 1.13016208]\n",
      "longest 10 bonds are [ 1.08875354  1.09045377  1.09047737  1.09173769  1.09196866  1.09758109\n",
      "  1.09762656  1.10018915  1.13016208 28.1426616 ]\n",
      "     95 percentile of distance to center is:    19.94272567392008\n",
      "     density of closest 95% monomers is:    0.15483884073447685\n",
      "     density of the core monomers is:    0.08082399183771585\n",
      "     min/median/mean/max coordinates are: \n",
      "     x: -20.41, 1.11, 0.02, 19.49\n",
      "     y: -20.09, -0.03, -0.14, 21.01\n",
      "     z: -16.76, 0.07, -0.01, 17.20\n",
      "\n",
      "Statistics for velocities:\n",
      "     mean kinetic energy is:  1.5116463557524058 should be: 1.5\n",
      "     fastest particles are (in kT):  [ 8.19048673  8.19154076  8.43173951 11.42743784 11.79434298]\n",
      "\n",
      "Statistics for the system:\n",
      "     Forces are:  ['FENEBond', 'AngleForce', 'RepulsiveSoftCore', 'SphericalConfinement', 'TypetoType', 'Loops', 'IdealChromosome_chain_0', 'IdealChromosome_chain_2712']\n",
      "     Number of exceptions:   5413\n",
      "\n",
      "Potential Energy Ep =  19.106027816251153\n",
      "bl=50 pos[1]=[9.7 8.1 2.4] dr=0.37 t=50.0ps kin=1.51 pot=19.09 Rg=15.530 SPS=366 \n",
      "bl=51 pos[1]=[9.9 8.1 2.5] dr=0.37 t=51.0ps kin=1.50 pot=19.09 Rg=15.520 SPS=361 \n",
      "bl=52 pos[1]=[9.9 7.5 2.1] dr=0.37 t=52.0ps kin=1.50 pot=19.08 Rg=15.513 SPS=360 \n",
      "bl=53 pos[1]=[10.2 7.5 2.2] dr=0.37 t=53.0ps kin=1.52 pot=19.08 Rg=15.506 SPS=361 \n",
      "bl=54 pos[1]=[10.3 7.5 1.9] dr=0.37 t=54.0ps kin=1.53 pot=19.06 Rg=15.499 SPS=362 \n",
      "bl=55 pos[1]=[10.5 7.9 1.9] dr=0.37 t=55.0ps kin=1.52 pot=19.06 Rg=15.492 SPS=362 \n",
      "bl=56 pos[1]=[10.7 8.0 2.2] dr=0.37 t=56.0ps kin=1.51 pot=19.07 Rg=15.485 SPS=361 \n",
      "bl=57 pos[1]=[10.7 8.3 2.1] dr=0.37 t=57.0ps kin=1.53 pot=19.05 Rg=15.481 SPS=361 \n",
      "bl=58 pos[1]=[10.7 8.3 2.3] dr=0.37 t=58.0ps kin=1.51 pot=19.07 Rg=15.479 SPS=361 \n",
      "bl=59 pos[1]=[10.5 8.4 2.1] dr=0.37 t=59.0ps kin=1.50 pot=19.08 Rg=15.478 SPS=361 \n",
      "bl=60 pos[1]=[10.3 8.1 2.0] dr=0.37 t=60.0ps kin=1.49 pot=19.09 Rg=15.478 SPS=361 \n",
      "bl=61 pos[1]=[10.1 8.1 2.0] dr=0.37 t=61.0ps kin=1.50 pot=19.10 Rg=15.477 SPS=370 \n",
      "bl=62 pos[1]=[9.8 8.3 1.9] dr=0.37 t=62.0ps kin=1.50 pot=19.09 Rg=15.474 SPS=370 \n",
      "bl=63 pos[1]=[10.3 8.4 1.9] dr=0.37 t=63.0ps kin=1.51 pot=19.07 Rg=15.470 SPS=373 \n",
      "bl=64 pos[1]=[10.3 8.1 1.9] dr=0.37 t=64.0ps kin=1.49 pot=19.07 Rg=15.465 SPS=371 \n",
      "bl=65 pos[1]=[10.2 8.3 1.9] dr=0.37 t=65.0ps kin=1.50 pot=19.05 Rg=15.461 SPS=372 \n",
      "bl=66 pos[1]=[10.3 8.5 1.6] dr=0.37 t=66.0ps kin=1.50 pot=19.05 Rg=15.456 SPS=372 \n",
      "bl=67 pos[1]=[10.1 8.4 1.8] dr=0.37 t=67.0ps kin=1.51 pot=19.04 Rg=15.450 SPS=371 \n",
      "bl=68 pos[1]=[10.0 8.4 2.1] dr=0.37 t=68.0ps kin=1.50 pot=19.05 Rg=15.442 SPS=371 \n",
      "bl=69 pos[1]=[9.9 8.8 2.0] dr=0.37 t=69.0ps kin=1.50 pot=19.06 Rg=15.431 SPS=371 \n",
      "bl=70 pos[1]=[9.9 9.4 2.0] dr=0.37 t=70.0ps kin=1.51 pot=19.05 Rg=15.420 SPS=370 \n",
      "bl=71 pos[1]=[9.6 9.6 2.0] dr=0.37 t=71.0ps kin=1.48 pot=19.05 Rg=15.410 SPS=372 \n",
      "bl=72 pos[1]=[9.4 9.9 1.8] dr=0.37 t=72.0ps kin=1.49 pot=19.04 Rg=15.399 SPS=370 \n",
      "bl=73 pos[1]=[9.5 10.0 1.9] dr=0.37 t=73.0ps kin=1.51 pot=19.03 Rg=15.390 SPS=368 \n",
      "bl=74 pos[1]=[9.0 9.9 2.1] dr=0.38 t=74.0ps kin=1.53 pot=19.03 Rg=15.382 SPS=373 \n",
      "bl=75 pos[1]=[8.5 9.9 2.1] dr=0.38 t=75.0ps kin=1.51 pot=19.04 Rg=15.377 SPS=370 \n",
      "bl=76 pos[1]=[8.6 10.1 2.4] dr=0.37 t=76.0ps kin=1.49 pot=19.04 Rg=15.378 SPS=370 \n",
      "bl=77 pos[1]=[8.7 10.1 2.3] dr=0.37 t=77.0ps kin=1.50 pot=19.03 Rg=15.380 SPS=371 \n",
      "bl=78 pos[1]=[8.7 9.9 1.8] dr=0.37 t=78.0ps kin=1.50 pot=19.03 Rg=15.381 SPS=370 \n",
      "bl=79 pos[1]=[8.6 9.9 1.7] dr=0.37 t=79.0ps kin=1.47 pot=19.07 Rg=15.382 SPS=375 \n",
      "bl=80 pos[1]=[9.1 9.8 1.5] dr=0.37 t=80.0ps kin=1.50 pot=19.05 Rg=15.383 SPS=374 \n",
      "bl=81 pos[1]=[8.9 9.5 1.6] dr=0.37 t=81.0ps kin=1.48 pot=19.08 Rg=15.382 SPS=374 \n",
      "bl=82 pos[1]=[9.4 9.8 1.7] dr=0.37 t=82.0ps kin=1.49 pot=19.07 Rg=15.382 SPS=376 \n",
      "bl=83 pos[1]=[9.3 9.8 1.9] dr=0.37 t=83.0ps kin=1.50 pot=19.06 Rg=15.385 SPS=375 \n",
      "bl=84 pos[1]=[9.6 10.1 2.3] dr=0.37 t=84.0ps kin=1.51 pot=19.05 Rg=15.389 SPS=374 \n",
      "bl=85 pos[1]=[9.3 10.2 2.1] dr=0.37 t=85.0ps kin=1.50 pot=19.05 Rg=15.393 SPS=374 \n",
      "bl=86 pos[1]=[9.1 10.0 2.1] dr=0.37 t=86.0ps kin=1.49 pot=19.06 Rg=15.395 SPS=374 \n",
      "bl=87 pos[1]=[8.9 9.8 2.2] dr=0.37 t=87.0ps kin=1.49 pot=19.05 Rg=15.397 SPS=375 \n",
      "bl=88 pos[1]=[9.1 10.1 2.3] dr=0.37 t=88.0ps kin=1.51 pot=19.06 Rg=15.400 SPS=375 \n",
      "bl=89 pos[1]=[9.1 10.3 2.2] dr=0.38 t=89.0ps kin=1.53 pot=19.05 Rg=15.404 SPS=373 \n",
      "bl=90 pos[1]=[9.0 10.3 1.8] dr=0.37 t=90.0ps kin=1.53 pot=19.05 Rg=15.407 SPS=375 \n",
      "bl=91 pos[1]=[9.1 10.0 1.6] dr=0.37 t=91.0ps kin=1.50 pot=19.07 Rg=15.413 SPS=374 \n",
      "bl=92 pos[1]=[9.2 9.6 1.6] dr=0.37 t=92.0ps kin=1.48 pot=19.09 Rg=15.419 SPS=375 \n",
      "bl=93 pos[1]=[9.2 9.6 1.2] dr=0.37 t=93.0ps kin=1.51 pot=19.06 Rg=15.424 SPS=375 \n",
      "bl=94 pos[1]=[9.3 9.5 1.3] dr=0.37 t=94.0ps kin=1.46 pot=19.10 Rg=15.431 SPS=373 \n",
      "bl=95 pos[1]=[9.4 9.7 1.5] dr=0.37 t=95.0ps kin=1.50 pot=19.05 Rg=15.435 SPS=376 \n",
      "bl=96 pos[1]=[9.3 10.0 1.8] dr=0.37 t=96.0ps kin=1.50 pot=19.06 Rg=15.439 SPS=374 \n",
      "bl=97 pos[1]=[9.1 9.6 2.2] dr=0.37 t=97.0ps kin=1.48 pot=19.06 Rg=15.443 SPS=374 \n",
      "bl=98 pos[1]=[9.4 9.2 2.2] dr=0.37 t=98.0ps kin=1.50 pot=19.04 Rg=15.444 SPS=375 \n",
      "bl=99 pos[1]=[9.5 9.3 2.3] dr=0.37 t=99.0ps kin=1.50 pot=19.04 Rg=15.441 SPS=374 \n",
      "\n",
      "Statistics for the simulation mult_chr10_chr11, number of particles: 5415,  number of chains: 2\n",
      "\n",
      "Statistics for particle position\n",
      "     mean position is:  [-0.06927924 -0.10027673  0.07704145]   Rg =  15.441195\n",
      "     median bond size is  0.9639880217588337\n",
      "     three shortest/longest (<10)/ bonds are  [0.86738203 0.88318466 0.88342016]    [1.09301072 1.12154671 1.12740344]\n",
      "longest 10 bonds are [ 1.07254351  1.07310119  1.07471385  1.07693401  1.07894139  1.08853911\n",
      "  1.09301072  1.12154671  1.12740344 26.61113934]\n",
      "     95 percentile of distance to center is:    20.11806704755693\n",
      "     density of closest 95% monomers is:    0.15082547557269885\n",
      "     density of the core monomers is:    0.08594884341277866\n",
      "     min/median/mean/max coordinates are: \n",
      "     x: -20.59, 1.08, -0.07, 21.01\n",
      "     y: -18.90, -0.16, -0.10, 19.74\n",
      "     z: -16.41, 0.15, 0.08, 15.90\n",
      "\n",
      "Statistics for velocities:\n",
      "     mean kinetic energy is:  1.5015054896190136 should be: 1.5\n",
      "     fastest particles are (in kT):  [ 7.43869535  7.50340595  9.43334155  9.47125131 10.3517725 ]\n",
      "\n",
      "Statistics for the system:\n",
      "     Forces are:  ['FENEBond', 'AngleForce', 'RepulsiveSoftCore', 'SphericalConfinement', 'TypetoType', 'Loops', 'IdealChromosome_chain_0', 'IdealChromosome_chain_2712']\n",
      "     Number of exceptions:   5413\n",
      "\n",
      "Potential Energy Ep =  19.04365477839335\n",
      "bl=100 pos[1]=[9.7 9.5 1.7] dr=0.37 t=100.0ps kin=1.50 pot=19.04 Rg=15.439 SPS=381 \n"
     ]
    }
   ],
   "source": [
    "for _ in range(n_blocks):\n",
    "    chain_C10_c11.doBlock(block, output=True) #makes output=False if won't print details about simularion \n",
    "    chain_C10_c11.save()  #save frame on cndb file"
   ]
  },
  {
   "cell_type": "markdown",
   "metadata": {},
   "source": [
    "After the simulation finish you must close the files"
   ]
  },
  {
   "cell_type": "code",
   "execution_count": 49,
   "metadata": {},
   "outputs": [],
   "source": [
    "chain_C10_c11.storage[0].close() #close the cndb file\n",
    "chain_C10_c11.storage[1].close() #close the cndb file"
   ]
  },
  {
   "cell_type": "markdown",
   "metadata": {},
   "source": [
    "If you want to save a structure to visualize in vmd, chimera, etc.. You can save a ndb file.<br>\n",
    "\n",
    "**The ndb interpreter for visualize in vmd/chimera is under construction<br>**"
   ]
  },
  {
   "cell_type": "code",
   "execution_count": 52,
   "metadata": {},
   "outputs": [],
   "source": [
    "chain_C10_c11.save(mode=\"ndb\")"
   ]
  },
  {
   "cell_type": "markdown",
   "metadata": {},
   "source": [
    "To visualize the ndb files we can use the ndb converter that can be download \n",
    "in https://ndb.rice.edu/ndb-format"
   ]
  }
 ],
 "metadata": {
  "kernelspec": {
   "display_name": "Python 3",
   "language": "python",
   "name": "python3"
  },
  "language_info": {
   "codemirror_mode": {
    "name": "ipython",
    "version": 3
   },
   "file_extension": ".py",
   "mimetype": "text/x-python",
   "name": "python",
   "nbconvert_exporter": "python",
   "pygments_lexer": "ipython3",
   "version": "3.7.4"
  }
 },
 "nbformat": 4,
 "nbformat_minor": 4
}
