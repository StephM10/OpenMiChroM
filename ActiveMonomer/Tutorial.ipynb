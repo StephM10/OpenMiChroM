{
 "cells": [
  {
   "cell_type": "code",
   "execution_count": 1,
   "metadata": {},
   "outputs": [
    {
     "name": "stdout",
     "output_type": "stream",
     "text": [
      "Unable to load OpenMM as 'openmm'. Will try the older way 'simtk.openmm'\n"
     ]
    }
   ],
   "source": [
    "from ActiveMonomerModule import ActiveMonomer"
   ]
  },
  {
   "cell_type": "code",
   "execution_count": null,
   "metadata": {},
   "outputs": [],
   "source": [
    "#Initialize ActiveMonnomer\n",
    "#Active Monomer is a subclass of (inherits) OpenMiChroM\n",
    "\n",
    "# We need the active sequence to create ActiveMonomer\n",
    "# This file contains a sequence with values of active amplitude for each particle\n",
    "# particles to be loaded in a subsequent step\n",
    "# e.g.: act_seq=[1,3,0,0.4,2.0,0] creates a force object correspondong to active force\n",
    "# and assigns FOUR particles to the force, with amplitudes given by the list value\n",
    "# third and sixth particles are skipped since they have zero amplitude\n",
    "# IMPORTANT: zeros in act_seq make sure the right monomers get assigned activity when there\n",
    "# are both active and passive particles\n",
    "\n",
    "sim=ActiveMonomer(\n",
    "            time_step=0.01, #integration time\n",
    "            collision_rate=10.0,    #damping constant\n",
    "            temperature=120.0,  #kB=1/120\n",
    "            name=\"ActiveMonomer\", \n",
    "            active_corr_time=10.0, \n",
    "            act_seq=[0.,3,4],   \n",
    "            platform=\"opencl\")\n",
    "    \n"
   ]
  },
  {
   "cell_type": "code",
   "execution_count": null,
   "metadata": {},
   "outputs": [],
   "source": [
    "        sim.saveFolder('out/')\n",
    "        struct=sim.create_springSpiral(ChromSeq='in/random.txt')\n",
    "\n",
    "        sim.loadStructure(struct, center=True)\n",
    "\n",
    "        sim.addHarmonicBonds(kfb=70.0)\n",
    "        #asim.addFENEBonds(kfb=30.0)\n",
    "\n",
    "        sim.addAngles(ka=2.0)\n",
    "\n",
    "        #asim.addRepulsiveSoftCore(Ecut=4.0)\n",
    "        sim.addSelfAvoidance(Ecut=4.0)\n",
    "\n",
    "        # sim.addCustomTypes(mu=3.22, rc = 1.78, TypesTable='types.csv')\n",
    "        # sim.addTypetoType(mu=3.22, rc = 1.78)\n",
    "        #asim.addIdealChromosome(mu=3.22, rc = 1.78, dinit=3, dend=500)\n",
    "        sim.addFlatBottomHarmonic( kr=30.0, n_rad=10.0)\n",
    "\n",
    "        print([(xx,sim.forceDict[xx].getForceGroup()) for xx in sim.forceDict.keys()])\n",
    "\n",
    "        block = 100\n",
    "        n_blocks = 10\n",
    "\n",
    "        sim.initStorage(filename=\"test\")\n",
    "        # positions=[]\n",
    "        sim.runSimBlock(10, increment=False)\n",
    "        sim.initVelocities(mult=0.0) #set velocities (active force) to zero\n",
    "        for _ in range(n_blocks):\n",
    "            sim.runSimBlock(block, increment=False)\n",
    "            sim.state = sim.context.getState(getPositions=True,getEnergy=True, getForces=True, getVelocities=True)\n",
    "            # positions.append(asim.state.getPositions(asNumpy=True))\n",
    "            # sim.saveStructure()\n",
    "            # print(sim.state.getVelocities(asNumpy=True))\n",
    "        print([(xx,sim.forceDict[xx].getForceGroup()) for xx in sim.forceDict.keys()])\n",
    "\n",
    "\n",
    "        # print(sim.)\n",
    "        sim.storage[0].close()\n"
   ]
  }
 ],
 "metadata": {
  "kernelspec": {
   "display_name": "Python 3.7.10 ('newopenmm')",
   "language": "python",
   "name": "python3"
  },
  "language_info": {
   "codemirror_mode": {
    "name": "ipython",
    "version": 3
   },
   "file_extension": ".py",
   "mimetype": "text/x-python",
   "name": "python",
   "nbconvert_exporter": "python",
   "pygments_lexer": "ipython3",
   "version": "3.7.10"
  },
  "orig_nbformat": 4,
  "vscode": {
   "interpreter": {
    "hash": "eb908e2ee61974166e0f6210d6d4eb74d980ad50e61ae905e9364c3983814675"
   }
  }
 },
 "nbformat": 4,
 "nbformat_minor": 2
}
